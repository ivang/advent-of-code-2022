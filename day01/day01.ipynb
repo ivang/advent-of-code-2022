{
 "cells": [
  {
   "cell_type": "code",
   "execution_count": 1,
   "id": "51cd8138",
   "metadata": {},
   "outputs": [],
   "source": [
    "with open(\"input\", \"r\") as f:\n",
    "    lines = [line.strip() for line in f.readlines()]"
   ]
  },
  {
   "cell_type": "code",
   "execution_count": 2,
   "id": "6a92468f",
   "metadata": {},
   "outputs": [],
   "source": [
    "calories = []\n",
    "x = 0\n",
    "for line in lines:\n",
    "    if line == '':\n",
    "        calories.append(x)\n",
    "        x = 0\n",
    "        continue\n",
    "    x += int(line)"
   ]
  },
  {
   "cell_type": "markdown",
   "id": "d632ebca",
   "metadata": {},
   "source": [
    "### Part 1"
   ]
  },
  {
   "cell_type": "code",
   "execution_count": 3,
   "id": "94b85223",
   "metadata": {},
   "outputs": [
    {
     "data": {
      "text/plain": [
       "72017"
      ]
     },
     "execution_count": 3,
     "metadata": {},
     "output_type": "execute_result"
    }
   ],
   "source": [
    "sorted(calories, reverse=True)[0]"
   ]
  },
  {
   "cell_type": "markdown",
   "id": "d2e973bf",
   "metadata": {},
   "source": [
    "### Part 2"
   ]
  },
  {
   "cell_type": "code",
   "execution_count": 4,
   "id": "c09701a1",
   "metadata": {},
   "outputs": [
    {
     "data": {
      "text/plain": [
       "212520"
      ]
     },
     "execution_count": 4,
     "metadata": {},
     "output_type": "execute_result"
    }
   ],
   "source": [
    "sum(sorted(calories, reverse=True)[:3])"
   ]
  }
 ],
 "metadata": {
  "kernelspec": {
   "display_name": "Python 3",
   "language": "python",
   "name": "python3"
  },
  "language_info": {
   "codemirror_mode": {
    "name": "ipython",
    "version": 3
   },
   "file_extension": ".py",
   "mimetype": "text/x-python",
   "name": "python",
   "nbconvert_exporter": "python",
   "pygments_lexer": "ipython3",
   "version": "3.7.9"
  }
 },
 "nbformat": 4,
 "nbformat_minor": 5
}
