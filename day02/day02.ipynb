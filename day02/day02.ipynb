{
 "cells": [
  {
   "cell_type": "code",
   "execution_count": 1,
   "id": "b0161c51",
   "metadata": {},
   "outputs": [],
   "source": [
    "with open(\"input\", \"r\") as f:\n",
    "    moves = [line.strip().split() for line in f.readlines()]"
   ]
  },
  {
   "cell_type": "markdown",
   "id": "c4bd25af",
   "metadata": {},
   "source": [
    "### Part 1"
   ]
  },
  {
   "cell_type": "code",
   "execution_count": 2,
   "id": "ca849505",
   "metadata": {},
   "outputs": [
    {
     "data": {
      "text/plain": [
       "10595"
      ]
     },
     "execution_count": 2,
     "metadata": {},
     "output_type": "execute_result"
    }
   ],
   "source": [
    "shape_points = {'X': 1, 'Y': 2, 'Z': 3}\n",
    "score = 0\n",
    "for other, me in moves:\n",
    "    score += shape_points[me]\n",
    "    outcome = shape_points[me] - shape_points[chr(ord(other) + 23)]\n",
    "    if outcome in (1, -2):\n",
    "        score += 6\n",
    "    elif outcome == 0:\n",
    "        score += 3\n",
    "score"
   ]
  },
  {
   "cell_type": "markdown",
   "id": "5e6c48c2",
   "metadata": {},
   "source": [
    "### Part 2"
   ]
  },
  {
   "cell_type": "code",
   "execution_count": 3,
   "id": "49e344d5",
   "metadata": {},
   "outputs": [
    {
     "data": {
      "text/plain": [
       "9541"
      ]
     },
     "execution_count": 3,
     "metadata": {},
     "output_type": "execute_result"
    }
   ],
   "source": [
    "shape_points = {\"A\": 1, \"B\": 2, \"C\": 3}\n",
    "outcome_points = {\"X\": 0, \"Y\": 3, \"Z\": 6}\n",
    "move_map = 'ABC' * 3\n",
    "score = 0\n",
    "\n",
    "for other, outcome in moves:\n",
    "    should_win = ord(outcome) - ord('Y')\n",
    "    me = move_map[move_map.index(other) + 3 + should_win]\n",
    "    score += outcome_points[outcome]\n",
    "    score += shape_points[me]\n",
    "    \n",
    "score"
   ]
  }
 ],
 "metadata": {
  "kernelspec": {
   "display_name": "Python 3",
   "language": "python",
   "name": "python3"
  },
  "language_info": {
   "codemirror_mode": {
    "name": "ipython",
    "version": 3
   },
   "file_extension": ".py",
   "mimetype": "text/x-python",
   "name": "python",
   "nbconvert_exporter": "python",
   "pygments_lexer": "ipython3",
   "version": "3.7.9"
  }
 },
 "nbformat": 4,
 "nbformat_minor": 5
}
