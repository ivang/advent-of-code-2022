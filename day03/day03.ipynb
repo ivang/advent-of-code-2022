{
 "cells": [
  {
   "cell_type": "code",
   "execution_count": 1,
   "id": "2d3fecca",
   "metadata": {},
   "outputs": [],
   "source": [
    "from string import ascii_letters"
   ]
  },
  {
   "cell_type": "code",
   "execution_count": 2,
   "id": "2e180933",
   "metadata": {},
   "outputs": [],
   "source": [
    "with open(\"input\", \"r\") as f:\n",
    "    rucksacks = [line.strip() for line in f.readlines()]"
   ]
  },
  {
   "cell_type": "markdown",
   "id": "39f8f4e9",
   "metadata": {},
   "source": [
    "### Part 1"
   ]
  },
  {
   "cell_type": "code",
   "execution_count": 3,
   "id": "f81e70b8",
   "metadata": {},
   "outputs": [
    {
     "data": {
      "text/plain": [
       "7967"
      ]
     },
     "execution_count": 3,
     "metadata": {},
     "output_type": "execute_result"
    }
   ],
   "source": [
    "sum(ascii_letters.index((\n",
    "        set(rucksack[:len(rucksack) // 2]) & set(rucksack[len(rucksack) // 2:])\n",
    "    ).pop()) + 1\n",
    "    for rucksack in rucksacks)"
   ]
  },
  {
   "cell_type": "markdown",
   "id": "9221f63f",
   "metadata": {},
   "source": [
    "### Part 2"
   ]
  },
  {
   "cell_type": "code",
   "execution_count": 4,
   "id": "8b325d9a",
   "metadata": {},
   "outputs": [],
   "source": [
    "from functools import reduce"
   ]
  },
  {
   "cell_type": "code",
   "execution_count": 5,
   "id": "81493df3",
   "metadata": {},
   "outputs": [],
   "source": [
    "groups = [(set(rucksacks[3 * i]), set(rucksacks[3 * i + 1]), set(rucksacks[3 * i + 2]))\n",
    "          for i in range(len(rucksacks) // 3)]  "
   ]
  },
  {
   "cell_type": "code",
   "execution_count": 6,
   "id": "df91c67a",
   "metadata": {},
   "outputs": [
    {
     "data": {
      "text/plain": [
       "2716"
      ]
     },
     "execution_count": 6,
     "metadata": {},
     "output_type": "execute_result"
    }
   ],
   "source": [
    "sum(ascii_letters.index(reduce(lambda x, y: x & y, group).pop()) + 1\n",
    "    for group in groups)"
   ]
  }
 ],
 "metadata": {
  "kernelspec": {
   "display_name": "Python 3",
   "language": "python",
   "name": "python3"
  },
  "language_info": {
   "codemirror_mode": {
    "name": "ipython",
    "version": 3
   },
   "file_extension": ".py",
   "mimetype": "text/x-python",
   "name": "python",
   "nbconvert_exporter": "python",
   "pygments_lexer": "ipython3",
   "version": "3.7.9"
  }
 },
 "nbformat": 4,
 "nbformat_minor": 5
}
