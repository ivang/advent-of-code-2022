{
 "cells": [
  {
   "cell_type": "code",
   "execution_count": 1,
   "id": "c1ceb458",
   "metadata": {},
   "outputs": [],
   "source": [
    "with open(\"input\", \"r\") as f:\n",
    "    assignments = [[list(map(int, limits.split(\"-\")))\n",
    "                    for limits in pair.split(\",\")]\n",
    "                   for pair in f.read().split(\"\\n\") if pair != '']"
   ]
  },
  {
   "cell_type": "markdown",
   "id": "72fd6e2c",
   "metadata": {},
   "source": [
    "### Part 1"
   ]
  },
  {
   "cell_type": "code",
   "execution_count": 2,
   "id": "50e1be84",
   "metadata": {},
   "outputs": [
    {
     "data": {
      "text/plain": [
       "602"
      ]
     },
     "execution_count": 2,
     "metadata": {},
     "output_type": "execute_result"
    }
   ],
   "source": [
    "sum(set(range(elf1[0], elf1[1] + 1)).issuperset(set(range(elf2[0], elf2[1] + 1))) or\n",
    "    set(range(elf1[0], elf1[1] + 1)).issubset(set(range(elf2[0], elf2[1] + 1)))\n",
    "    for elf1, elf2 in assignments)"
   ]
  },
  {
   "cell_type": "markdown",
   "id": "f36cde48",
   "metadata": {},
   "source": [
    "### Part 2"
   ]
  },
  {
   "cell_type": "code",
   "execution_count": 3,
   "id": "9dcab12a",
   "metadata": {},
   "outputs": [
    {
     "data": {
      "text/plain": [
       "891"
      ]
     },
     "execution_count": 3,
     "metadata": {},
     "output_type": "execute_result"
    }
   ],
   "source": [
    "sum((set(range(elf1[0], elf1[1] + 1)) & set(range(elf2[0], elf2[1] + 1))) != set()\n",
    "    for elf1, elf2 in assignments)"
   ]
  }
 ],
 "metadata": {
  "kernelspec": {
   "display_name": "Python 3",
   "language": "python",
   "name": "python3"
  },
  "language_info": {
   "codemirror_mode": {
    "name": "ipython",
    "version": 3
   },
   "file_extension": ".py",
   "mimetype": "text/x-python",
   "name": "python",
   "nbconvert_exporter": "python",
   "pygments_lexer": "ipython3",
   "version": "3.7.9"
  }
 },
 "nbformat": 4,
 "nbformat_minor": 5
}
