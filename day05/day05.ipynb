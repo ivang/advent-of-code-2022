{
 "cells": [
  {
   "cell_type": "code",
   "execution_count": 1,
   "id": "f60fedeb",
   "metadata": {},
   "outputs": [],
   "source": [
    "import re"
   ]
  },
  {
   "cell_type": "code",
   "execution_count": 2,
   "id": "f3ae9973",
   "metadata": {},
   "outputs": [],
   "source": [
    "with open(\"input\", \"r\") as f:\n",
    "    config_raw, moves_raw = f.read().split(\"\\n\\n\")"
   ]
  },
  {
   "cell_type": "code",
   "execution_count": 3,
   "id": "7fe58d5c",
   "metadata": {},
   "outputs": [],
   "source": [
    "def get_stacks(config_raw):\n",
    "    config = config_raw.split(\"\\n\")\n",
    "    stack_idx = range(1, len(config[-1].strip()) + 1, 4)\n",
    "    stacks = {i: [] for i in range(1, len(stack_idx) + 1)}\n",
    "\n",
    "    for line in config[::-1][1:]:\n",
    "        for i in stack_idx:\n",
    "            if line[i] != ' ':\n",
    "                stacks[int(config[-1][i])].append(line[i])\n",
    "    return stacks"
   ]
  },
  {
   "cell_type": "code",
   "execution_count": 4,
   "id": "c4a438e7",
   "metadata": {},
   "outputs": [],
   "source": [
    "def get_moves(moves_raw):\n",
    "    moves = moves_raw.split(\"\\n\")\n",
    "    pattern = re.compile(\"move (?P<move_n>\\d+) from (?P<from_stack>\\d+) to (?P<to_stack>\\d+)\")\n",
    "    result = []\n",
    "\n",
    "    for move in moves:\n",
    "        if move != '':\n",
    "            match = pattern.match(move)\n",
    "            result.append({k: int(v) for k, v in match.groupdict().items()})\n",
    "    return result"
   ]
  },
  {
   "cell_type": "markdown",
   "id": "87a0715e",
   "metadata": {},
   "source": [
    "### Part 1"
   ]
  },
  {
   "cell_type": "code",
   "execution_count": 5,
   "id": "e21b349f",
   "metadata": {},
   "outputs": [],
   "source": [
    "def move_crates(stacks, move_n, from_stack, to_stack):\n",
    "    for i in range(move_n):\n",
    "        stacks[to_stack].append(stacks[from_stack].pop())"
   ]
  },
  {
   "cell_type": "code",
   "execution_count": 6,
   "id": "a303cc1e",
   "metadata": {},
   "outputs": [
    {
     "data": {
      "text/plain": [
       "'QGTHFZBHV'"
      ]
     },
     "execution_count": 6,
     "metadata": {},
     "output_type": "execute_result"
    }
   ],
   "source": [
    "stacks = get_stacks(config_raw)\n",
    "moves = get_moves(moves_raw)\n",
    "\n",
    "for move in moves:\n",
    "    move_crates(stacks, **move)\n",
    "\n",
    "\"\".join(stacks[key].pop() for key in stacks.keys())"
   ]
  },
  {
   "cell_type": "markdown",
   "id": "464f1893",
   "metadata": {},
   "source": [
    "### Part 2"
   ]
  },
  {
   "cell_type": "code",
   "execution_count": 7,
   "id": "d9518c3d",
   "metadata": {},
   "outputs": [],
   "source": [
    "def move_crates(stacks, move_n, from_stack, to_stack):\n",
    "    temp = []\n",
    "    for i in range(move_n):\n",
    "        temp.append(stacks[from_stack].pop())\n",
    "    for crate in temp[::-1]:\n",
    "        stacks[to_stack].append(crate)"
   ]
  },
  {
   "cell_type": "code",
   "execution_count": 8,
   "id": "246a947a",
   "metadata": {},
   "outputs": [
    {
     "data": {
      "text/plain": [
       "'MGDMPSZTM'"
      ]
     },
     "execution_count": 8,
     "metadata": {},
     "output_type": "execute_result"
    }
   ],
   "source": [
    "stacks = get_stacks(config_raw)\n",
    "moves = get_moves(moves_raw)\n",
    "\n",
    "for move in moves:\n",
    "    move_crates(stacks, **move)\n",
    "\n",
    "\"\".join(stacks[key].pop() for key in stacks.keys())"
   ]
  }
 ],
 "metadata": {
  "kernelspec": {
   "display_name": "Python 3",
   "language": "python",
   "name": "python3"
  },
  "language_info": {
   "codemirror_mode": {
    "name": "ipython",
    "version": 3
   },
   "file_extension": ".py",
   "mimetype": "text/x-python",
   "name": "python",
   "nbconvert_exporter": "python",
   "pygments_lexer": "ipython3",
   "version": "3.7.9"
  }
 },
 "nbformat": 4,
 "nbformat_minor": 5
}
