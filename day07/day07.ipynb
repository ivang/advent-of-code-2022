{
 "cells": [
  {
   "cell_type": "code",
   "execution_count": 1,
   "id": "499ff532",
   "metadata": {},
   "outputs": [],
   "source": [
    "import re"
   ]
  },
  {
   "cell_type": "code",
   "execution_count": 2,
   "id": "2e1461c1",
   "metadata": {},
   "outputs": [],
   "source": [
    "with open(\"input\", \"r\") as f:\n",
    "    terminal = [line.strip() for line in f.readlines()\n",
    "                if line.strip() not in [\"$ ls\", \"\"]]"
   ]
  },
  {
   "cell_type": "code",
   "execution_count": 3,
   "id": "d95a605d",
   "metadata": {},
   "outputs": [],
   "source": [
    "def add_to_cwd(cwd, fn, size=None):\n",
    "    _cwd = cwd[::-1]\n",
    "    \n",
    "    directory = filesystem\n",
    "    while len(_cwd) > 0:\n",
    "        directory = directory[_cwd.pop()]\n",
    "    \n",
    "    if size is None:\n",
    "        directory[fn] = {}\n",
    "    else:\n",
    "        directory[fn] = int(size)\n",
    "        \n",
    "    return filesystem"
   ]
  },
  {
   "cell_type": "code",
   "execution_count": 4,
   "id": "94e18fed",
   "metadata": {},
   "outputs": [],
   "source": [
    "cd_pattern = re.compile(\"^\\$ cd (?P<folder>.+)$\")\n",
    "dir_pattern = re.compile(\"^dir (?P<folder>.+)$\")\n",
    "file_pattern = re.compile(\"^(?P<size>\\d+) (?P<filename>.+)$\")\n",
    "cwd = []\n",
    "filesystem = {\"/\": {}}\n",
    "\n",
    "for line in terminal:\n",
    "    if cd_m := cd_pattern.match(line):\n",
    "        folder = cd_m.group(\"folder\")\n",
    "        if folder == \"..\":\n",
    "            cwd.pop()\n",
    "        else:\n",
    "            cwd.append(folder)\n",
    "        \n",
    "    if dir_m := dir_pattern.match(line):\n",
    "        add_to_cwd(cwd, fn=dir_m.group(\"folder\"))\n",
    "        \n",
    "    if file_m := file_pattern.match(line):\n",
    "        add_to_cwd(cwd, fn=file_m.group(\"filename\"), size=file_m.group(\"size\"))"
   ]
  },
  {
   "cell_type": "code",
   "execution_count": 5,
   "id": "18e20a75",
   "metadata": {},
   "outputs": [],
   "source": [
    "def folder_size(folder_name, folder):\n",
    "    total = 0\n",
    "    for k, v in folder.items():\n",
    "        if isinstance(v, int):\n",
    "            total += v\n",
    "        else:\n",
    "            total += folder_size(folder_name + k, v)\n",
    "    folders[folder_name] = total\n",
    "    return total"
   ]
  },
  {
   "cell_type": "code",
   "execution_count": 6,
   "id": "b1719cb4",
   "metadata": {},
   "outputs": [],
   "source": [
    "folders = {}\n",
    "total_size = folder_size(\"\", filesystem)"
   ]
  },
  {
   "cell_type": "markdown",
   "id": "3151bfcc",
   "metadata": {},
   "source": [
    "### Part 1"
   ]
  },
  {
   "cell_type": "code",
   "execution_count": 7,
   "id": "1f35851d",
   "metadata": {},
   "outputs": [
    {
     "data": {
      "text/plain": [
       "1783610"
      ]
     },
     "execution_count": 7,
     "metadata": {},
     "output_type": "execute_result"
    }
   ],
   "source": [
    "sum(v for v in folders.values() if v <= 100000)"
   ]
  },
  {
   "cell_type": "markdown",
   "id": "c961eb2c",
   "metadata": {},
   "source": [
    "### Part 2"
   ]
  },
  {
   "cell_type": "code",
   "execution_count": 8,
   "id": "57878cb5",
   "metadata": {},
   "outputs": [
    {
     "data": {
      "text/plain": [
       "4370655"
      ]
     },
     "execution_count": 8,
     "metadata": {},
     "output_type": "execute_result"
    }
   ],
   "source": [
    "space_needed = 30000000 - (70000000 - folders['/'])\n",
    "\n",
    "[size for size in sorted(folders.values(), reverse=True) if size > space_needed][-1]"
   ]
  }
 ],
 "metadata": {
  "kernelspec": {
   "display_name": "Python 3 (ipykernel)",
   "language": "python",
   "name": "python3"
  },
  "language_info": {
   "codemirror_mode": {
    "name": "ipython",
    "version": 3
   },
   "file_extension": ".py",
   "mimetype": "text/x-python",
   "name": "python",
   "nbconvert_exporter": "python",
   "pygments_lexer": "ipython3",
   "version": "3.10.6"
  }
 },
 "nbformat": 4,
 "nbformat_minor": 5
}
