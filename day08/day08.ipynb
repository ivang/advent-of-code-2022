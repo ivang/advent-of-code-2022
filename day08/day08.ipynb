{
 "cells": [
  {
   "cell_type": "code",
   "execution_count": 1,
   "id": "ea456a04",
   "metadata": {},
   "outputs": [],
   "source": [
    "import numpy as np"
   ]
  },
  {
   "cell_type": "code",
   "execution_count": 2,
   "id": "30878de1",
   "metadata": {},
   "outputs": [],
   "source": [
    "with open(\"input\", \"r\") as f:\n",
    "    trees = np.array([list(line.strip()) for line in f.readlines()], dtype=int)"
   ]
  },
  {
   "cell_type": "markdown",
   "id": "49a0250f",
   "metadata": {},
   "source": [
    "### Part 1"
   ]
  },
  {
   "cell_type": "code",
   "execution_count": 3,
   "id": "2860400a",
   "metadata": {},
   "outputs": [
    {
     "data": {
      "text/plain": [
       "1829"
      ]
     },
     "execution_count": 3,
     "metadata": {},
     "output_type": "execute_result"
    }
   ],
   "source": [
    "n_visible = 2 * trees.shape[0] + 2 * trees.shape[1] - 4\n",
    "\n",
    "for i in range(1, trees.shape[0] - 1):\n",
    "    for j in range(1, trees.shape[1] - 1):\n",
    "        prominence = trees[i, j] - trees\n",
    "        n_visible += any((all(prominence[i, :j] > 0), all(prominence[i, j + 1:] > 0),\n",
    "                          all(prominence[:i, j] > 0), all(prominence[i + 1:, j] > 0)))\n",
    "n_visible"
   ]
  },
  {
   "cell_type": "markdown",
   "id": "7d2e2d6f",
   "metadata": {},
   "source": [
    "### Part 2"
   ]
  },
  {
   "cell_type": "code",
   "execution_count": 4,
   "id": "7bbe7918",
   "metadata": {},
   "outputs": [
    {
     "data": {
      "text/plain": [
       "291840"
      ]
     },
     "execution_count": 4,
     "metadata": {},
     "output_type": "execute_result"
    }
   ],
   "source": [
    "max_scenic_score = 0\n",
    "for i in range(1, trees.shape[0] - 1):\n",
    "    for j in range(1, trees.shape[1] - 1):\n",
    "        tree = trees[i, j]\n",
    "        l, r, u, d = 0, 0, 0, 0\n",
    "        \n",
    "        for k in range(j - 1, -1, -1):\n",
    "            l += 1\n",
    "            if trees[i, k] >= tree:\n",
    "                break\n",
    "        for k in range(j + 1, trees.shape[1]):\n",
    "            r += 1\n",
    "            if trees[i, k] >= tree:\n",
    "                break\n",
    "        for k in range(i - 1, -1, -1):\n",
    "            u += 1\n",
    "            if trees[k, j] >= tree:\n",
    "                break\n",
    "        for k in range(i + 1, trees.shape[0]):\n",
    "            d += 1\n",
    "            if trees[k, j] >= tree:\n",
    "                break\n",
    "                \n",
    "        scenic_score = l * r * u * d\n",
    "        if scenic_score > max_scenic_score:\n",
    "            max_scenic_score = scenic_score\n",
    "max_scenic_score"
   ]
  }
 ],
 "metadata": {
  "kernelspec": {
   "display_name": "Python 3 (ipykernel)",
   "language": "python",
   "name": "python3"
  },
  "language_info": {
   "codemirror_mode": {
    "name": "ipython",
    "version": 3
   },
   "file_extension": ".py",
   "mimetype": "text/x-python",
   "name": "python",
   "nbconvert_exporter": "python",
   "pygments_lexer": "ipython3",
   "version": "3.10.6"
  }
 },
 "nbformat": 4,
 "nbformat_minor": 5
}
