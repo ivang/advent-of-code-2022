{
 "cells": [
  {
   "cell_type": "code",
   "execution_count": 1,
   "id": "c333d3b1",
   "metadata": {},
   "outputs": [],
   "source": [
    "import numpy as np"
   ]
  },
  {
   "cell_type": "code",
   "execution_count": 2,
   "id": "01061f95",
   "metadata": {},
   "outputs": [],
   "source": [
    "with open(\"input\", \"r\") as f:\n",
    "    moves = [(direction, int(steps))\n",
    "             for direction, steps in [line.strip().split() for line in f.readlines()]]"
   ]
  },
  {
   "cell_type": "code",
   "execution_count": 3,
   "id": "5c3d526d",
   "metadata": {},
   "outputs": [],
   "source": [
    "move_map = {'R': np.array((0, 1)),\n",
    "            'L': np.array((0, -1)),\n",
    "            'D': np.array((1, 0)),\n",
    "            'U': np.array((-1, 0))}"
   ]
  },
  {
   "cell_type": "markdown",
   "id": "121fbc00",
   "metadata": {},
   "source": [
    "### Part 1"
   ]
  },
  {
   "cell_type": "code",
   "execution_count": 4,
   "id": "a745f840",
   "metadata": {},
   "outputs": [],
   "source": [
    "head, tail = np.array((0, 0)), np.array((0, 0))\n",
    "\n",
    "tail_trace = []\n",
    "for direction, n_step in moves:\n",
    "    for step in range(n_step):\n",
    "        head = head + move_map[direction]\n",
    "        if (abs(tail - head) > 1).any():\n",
    "            tail = head - move_map[direction]\n",
    "            tail_trace.append(tail)"
   ]
  },
  {
   "cell_type": "code",
   "execution_count": 5,
   "id": "e24258ba",
   "metadata": {},
   "outputs": [
    {
     "data": {
      "text/plain": [
       "6384"
      ]
     },
     "execution_count": 5,
     "metadata": {},
     "output_type": "execute_result"
    }
   ],
   "source": [
    "len({tuple(arr.tolist()) for arr in tail_trace})"
   ]
  },
  {
   "cell_type": "markdown",
   "id": "5fc8a74f",
   "metadata": {},
   "source": [
    "### Part 2"
   ]
  },
  {
   "cell_type": "code",
   "execution_count": 6,
   "id": "2d610ff1",
   "metadata": {},
   "outputs": [],
   "source": [
    "n_segments = 10\n",
    "segments = [np.array((0, 0))] * n_segments"
   ]
  },
  {
   "cell_type": "code",
   "execution_count": 7,
   "id": "b91f4ae0",
   "metadata": {},
   "outputs": [],
   "source": [
    "tail_trace = []\n",
    "for direction, n_step in moves:\n",
    "    for step in range(n_step):\n",
    "        segments[0] = segments[0] + move_map[direction]\n",
    "        for i in range(1, n_segments):\n",
    "            diff = segments[i - 1] - segments[i]\n",
    "            if (abs(diff) == 2).any():\n",
    "                diff[diff == -2] = -1\n",
    "                diff[diff == 2] = 1\n",
    "                segments[i] = segments[i] + diff\n",
    "                tail_trace.append(segments[-1])"
   ]
  },
  {
   "cell_type": "code",
   "execution_count": 8,
   "id": "fa0edd73",
   "metadata": {},
   "outputs": [
    {
     "data": {
      "text/plain": [
       "2734"
      ]
     },
     "execution_count": 8,
     "metadata": {},
     "output_type": "execute_result"
    }
   ],
   "source": [
    "len({tuple(arr.tolist()) for arr in tail_trace})"
   ]
  }
 ],
 "metadata": {
  "kernelspec": {
   "display_name": "Python 3 (ipykernel)",
   "language": "python",
   "name": "python3"
  },
  "language_info": {
   "codemirror_mode": {
    "name": "ipython",
    "version": 3
   },
   "file_extension": ".py",
   "mimetype": "text/x-python",
   "name": "python",
   "nbconvert_exporter": "python",
   "pygments_lexer": "ipython3",
   "version": "3.10.6"
  }
 },
 "nbformat": 4,
 "nbformat_minor": 5
}
