{
 "cells": [
  {
   "cell_type": "code",
   "execution_count": 1,
   "id": "38eb4aa1",
   "metadata": {},
   "outputs": [],
   "source": [
    "with open(\"input\", \"r\") as f:\n",
    "    operations = [line.strip().split() for line in f.readlines()]"
   ]
  },
  {
   "cell_type": "markdown",
   "id": "174de7e9",
   "metadata": {},
   "source": [
    "### Part 1"
   ]
  },
  {
   "cell_type": "code",
   "execution_count": 2,
   "id": "894f3b73",
   "metadata": {},
   "outputs": [],
   "source": [
    "strength = 0\n",
    "x = 1\n",
    "cycle = 0\n",
    "meas = [0]\n",
    "\n",
    "for op in operations:\n",
    "    if op[0] == 'addx':\n",
    "        for i in range(2):\n",
    "            cycle += 1 \n",
    "            meas.append(x * cycle)\n",
    "        x += int(op[1])\n",
    "    elif op[0] == 'noop':\n",
    "        cycle += 1\n",
    "        meas.append(x * cycle)"
   ]
  },
  {
   "cell_type": "code",
   "execution_count": 3,
   "id": "2ad7d16c",
   "metadata": {},
   "outputs": [
    {
     "data": {
      "text/plain": [
       "14320"
      ]
     },
     "execution_count": 3,
     "metadata": {},
     "output_type": "execute_result"
    }
   ],
   "source": [
    "sum(meas[20:221:40])"
   ]
  },
  {
   "cell_type": "markdown",
   "id": "cff944b0",
   "metadata": {},
   "source": [
    "### Part 2"
   ]
  },
  {
   "cell_type": "code",
   "execution_count": 4,
   "id": "9940c0b5",
   "metadata": {},
   "outputs": [],
   "source": [
    "x = 1\n",
    "cycle = 0\n",
    "crt = ['.'] * 240\n",
    "\n",
    "def print_pixel(cycle, x):\n",
    "    if abs((cycle % 40) - x) <= 1:\n",
    "        crt[cycle] = '#'\n",
    "\n",
    "for op in operations:       \n",
    "    print_pixel(cycle, x)\n",
    "    \n",
    "    if op[0] == 'noop':\n",
    "        cycle += 1\n",
    "        continue\n",
    "        \n",
    "    if op[0] == 'addx':\n",
    "        for i in range(2):\n",
    "            print_pixel(cycle, x)\n",
    "            cycle += 1\n",
    "        x += int(op[1])\n",
    "    "
   ]
  },
  {
   "cell_type": "code",
   "execution_count": 5,
   "id": "d865d4a9",
   "metadata": {},
   "outputs": [],
   "source": [
    "import numpy as np"
   ]
  },
  {
   "cell_type": "code",
   "execution_count": 6,
   "id": "26538bde",
   "metadata": {},
   "outputs": [
    {
     "data": {
      "text/plain": [
       "array(['###...##..###..###..#..#..##..###....##.',\n",
       "       '#..#.#..#.#..#.#..#.#.#..#..#.#..#....#.',\n",
       "       '#..#.#....#..#.###..##...#..#.#..#....#.',\n",
       "       '###..#....###..#..#.#.#..####.###.....#.',\n",
       "       '#....#..#.#....#..#.#.#..#..#.#....#..#.',\n",
       "       '#.....##..#....###..#..#.#..#.#.....##..'], dtype='<U40')"
      ]
     },
     "execution_count": 6,
     "metadata": {},
     "output_type": "execute_result"
    }
   ],
   "source": [
    "np.apply_along_axis(\"\".join, axis=1, arr=np.array(crt).reshape(6, 40))"
   ]
  }
 ],
 "metadata": {
  "kernelspec": {
   "display_name": "Python 3 (ipykernel)",
   "language": "python",
   "name": "python3"
  },
  "language_info": {
   "codemirror_mode": {
    "name": "ipython",
    "version": 3
   },
   "file_extension": ".py",
   "mimetype": "text/x-python",
   "name": "python",
   "nbconvert_exporter": "python",
   "pygments_lexer": "ipython3",
   "version": "3.10.6"
  }
 },
 "nbformat": 4,
 "nbformat_minor": 5
}
