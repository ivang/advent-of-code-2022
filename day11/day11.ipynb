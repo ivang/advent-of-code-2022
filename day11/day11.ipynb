{
 "cells": [
  {
   "cell_type": "code",
   "execution_count": 1,
   "id": "815ed80d",
   "metadata": {},
   "outputs": [],
   "source": [
    "from copy import deepcopy"
   ]
  },
  {
   "cell_type": "code",
   "execution_count": 2,
   "id": "ac906c90",
   "metadata": {},
   "outputs": [],
   "source": [
    "with open(\"input\", \"r\") as f:\n",
    "    monkeys_raw = [monkey.split('\\n') for monkey in f.read().split(\"\\n\\n\")]"
   ]
  },
  {
   "cell_type": "code",
   "execution_count": 3,
   "id": "2c6d4b1e",
   "metadata": {},
   "outputs": [],
   "source": [
    "monkeys = []\n",
    "for monkey_raw in monkeys_raw:\n",
    "    monkey = {}\n",
    "    monkey[\"id\"] = monkey_raw[0].split()[1][:-1]\n",
    "    monkey[\"items\"] = list(map(int, monkey_raw[1].split(\":\")[1].split(',')))\n",
    "    monkey[\"operation\"] = monkey_raw[2].split(\" = \")[1]\n",
    "    monkey[\"test\"] = int(monkey_raw[3].split(\" by \")[1])\n",
    "    monkey[\"true\"] = int(monkey_raw[4].split(\"monkey \")[1])\n",
    "    monkey[\"false\"] = int(monkey_raw[5].split(\"monkey \")[1])\n",
    "    monkey[\"inspected\"] = 0\n",
    "    monkeys.append(monkey)"
   ]
  },
  {
   "cell_type": "code",
   "execution_count": 4,
   "id": "a0270b71",
   "metadata": {},
   "outputs": [],
   "source": [
    "def monkey_business(monkeys, n_rounds, worry_reduction_fn):\n",
    "    _monkeys = deepcopy(monkeys)\n",
    "    for _ in range(n_rounds):\n",
    "        for monkey in _monkeys:\n",
    "            while len(monkey[\"items\"]) > 0:\n",
    "                old = monkey[\"items\"].pop()\n",
    "                monkey[\"inspected\"] += 1\n",
    "                worry = eval(monkey[\"operation\"])\n",
    "                worry = worry_reduction_fn(worry)\n",
    "\n",
    "                if worry % monkey[\"test\"] == 0:\n",
    "                    next_monkey = _monkeys[monkey[\"true\"]]\n",
    "                else:\n",
    "                    next_monkey = _monkeys[monkey[\"false\"]]\n",
    "\n",
    "                next_monkey[\"items\"].append(worry)\n",
    "\n",
    "    a, b = sorted([monkey[\"inspected\"] for monkey in _monkeys], reverse=True)[:2]\n",
    "    \n",
    "    return a * b"
   ]
  },
  {
   "cell_type": "markdown",
   "id": "2a612e0b",
   "metadata": {},
   "source": [
    "### Part 1"
   ]
  },
  {
   "cell_type": "code",
   "execution_count": 5,
   "id": "40772963",
   "metadata": {},
   "outputs": [
    {
     "data": {
      "text/plain": [
       "55216"
      ]
     },
     "execution_count": 5,
     "metadata": {},
     "output_type": "execute_result"
    }
   ],
   "source": [
    "monkey_business(monkeys, n_rounds=20, worry_reduction_fn=lambda x: x // 3)"
   ]
  },
  {
   "cell_type": "markdown",
   "id": "28d8d9a4",
   "metadata": {},
   "source": [
    "### Part 2"
   ]
  },
  {
   "cell_type": "code",
   "execution_count": 6,
   "id": "6922c606",
   "metadata": {},
   "outputs": [
    {
     "data": {
      "text/plain": [
       "12848882750"
      ]
     },
     "execution_count": 6,
     "metadata": {},
     "output_type": "execute_result"
    }
   ],
   "source": [
    "from math import lcm\n",
    "\n",
    "m = lcm(*[monkey[\"test\"] for monkey in monkeys])\n",
    "\n",
    "monkey_business(monkeys, n_rounds=10_000, worry_reduction_fn=lambda x: x % m)"
   ]
  }
 ],
 "metadata": {
  "kernelspec": {
   "display_name": "Python 3 (ipykernel)",
   "language": "python",
   "name": "python3"
  },
  "language_info": {
   "codemirror_mode": {
    "name": "ipython",
    "version": 3
   },
   "file_extension": ".py",
   "mimetype": "text/x-python",
   "name": "python",
   "nbconvert_exporter": "python",
   "pygments_lexer": "ipython3",
   "version": "3.10.6"
  }
 },
 "nbformat": 4,
 "nbformat_minor": 5
}
