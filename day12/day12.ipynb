{
 "cells": [
  {
   "cell_type": "code",
   "execution_count": 1,
   "id": "f6713b5d",
   "metadata": {},
   "outputs": [],
   "source": [
    "from string import ascii_letters\n",
    "from itertools import product\n",
    "from math import inf\n",
    "from heapq import heappush, heappop"
   ]
  },
  {
   "cell_type": "code",
   "execution_count": 2,
   "id": "6e9b0b72",
   "metadata": {},
   "outputs": [],
   "source": [
    "with open(\"input\", \"r\") as f:\n",
    "    height_map_raw = [list(line.strip()) for line in f.readlines()]"
   ]
  },
  {
   "cell_type": "code",
   "execution_count": 3,
   "id": "75ee6a2d",
   "metadata": {},
   "outputs": [],
   "source": [
    "for i, line in enumerate(height_map_raw):\n",
    "    if 'S' in line:\n",
    "        start = (i, line.index('S'))\n",
    "    if 'E' in line:\n",
    "        end = (i, line.index('E'))"
   ]
  },
  {
   "cell_type": "code",
   "execution_count": 4,
   "id": "4e6be15a",
   "metadata": {},
   "outputs": [],
   "source": [
    "heights = ascii_letters[:len(ascii_letters) // 2]\n",
    "height_map = [[0 if char == 'S' else\n",
    "               25 if char == 'E' else\n",
    "               heights.index(char)\n",
    "               for char in row] \n",
    "              for row in height_map_raw]"
   ]
  },
  {
   "cell_type": "code",
   "execution_count": 5,
   "id": "796190b3",
   "metadata": {},
   "outputs": [],
   "source": [
    "def reconstruct_path(came_from, current):\n",
    "    path = [current]\n",
    "\n",
    "    while current in came_from:\n",
    "        current = came_from[current]\n",
    "        path = [current] + path\n",
    "    \n",
    "    return path"
   ]
  },
  {
   "cell_type": "code",
   "execution_count": 6,
   "id": "e2a6b43f",
   "metadata": {},
   "outputs": [],
   "source": [
    "def is_within_bounds(point, bounds):\n",
    "    x, y = point\n",
    "    x_bounds, y_bounds = bounds\n",
    "    return (x_bounds[0] <= x <= x_bounds[1]\n",
    "            and y_bounds[0] <= y <= y_bounds[1])"
   ]
  },
  {
   "cell_type": "code",
   "execution_count": 7,
   "id": "331d4c0e",
   "metadata": {},
   "outputs": [],
   "source": [
    "def h(point_a, point_b):\n",
    "    return sum(abs(coord_a - coord_b)\n",
    "               for coord_a, coord_b in zip(point_a, point_b))"
   ]
  },
  {
   "cell_type": "code",
   "execution_count": 8,
   "id": "8c9118f6",
   "metadata": {},
   "outputs": [],
   "source": [
    "def a_star(start, goal, matrix, h):\n",
    "\n",
    "    came_from = {}\n",
    "    open_set = []\n",
    "    g_score = {start: 0}\n",
    "    \n",
    "    f_score = {start: h(start, goal)}\n",
    "    \n",
    "    heappush(open_set, (f_score[start], start))\n",
    "    \n",
    "    bounds = ((0, len(matrix) - 1),\n",
    "              (0, len(matrix[0]) - 1))\n",
    "    \n",
    "    x, y = start\n",
    "    \n",
    "    while len(open_set) > 0:\n",
    "        _, current = heappop(open_set)\n",
    "        x, y = current\n",
    "        \n",
    "        if current == goal:\n",
    "            return reconstruct_path(came_from, current)\n",
    "        \n",
    "        neighbors = [(x + x0, y + y0) for x0, y0 in product(range(-1, 2), repeat=2)\n",
    "                     if abs(x0 + y0) == 1\n",
    "                     and is_within_bounds((x + x0, y + y0), bounds)\n",
    "                     and matrix[x + x0][y + y0] <= matrix[x][y] + 1] \n",
    "        \n",
    "        for neighbor in neighbors:\n",
    "            tentative_g_score = g_score.get(current, inf) + 1\n",
    "\n",
    "            if tentative_g_score < g_score.get(neighbor, inf):\n",
    "                came_from[neighbor] = current\n",
    "                g_score[neighbor] = tentative_g_score\n",
    "                f_score[neighbor] = tentative_g_score + h(neighbor, goal)\n",
    "                if (f_score[neighbor], neighbor) not in open_set:\n",
    "                    heappush(open_set, (f_score[neighbor], neighbor))\n",
    "    return -1"
   ]
  },
  {
   "cell_type": "markdown",
   "id": "5cbc6ec8",
   "metadata": {},
   "source": [
    "### Part 1"
   ]
  },
  {
   "cell_type": "code",
   "execution_count": 9,
   "id": "f29c8b3b",
   "metadata": {},
   "outputs": [
    {
     "data": {
      "text/plain": [
       "383"
      ]
     },
     "execution_count": 9,
     "metadata": {},
     "output_type": "execute_result"
    }
   ],
   "source": [
    "len(a_star(start, end, height_map, h)) - 1"
   ]
  },
  {
   "cell_type": "markdown",
   "id": "5675baa7",
   "metadata": {},
   "source": [
    "### Part 2"
   ]
  },
  {
   "cell_type": "code",
   "execution_count": 10,
   "id": "eb21f8b0",
   "metadata": {},
   "outputs": [
    {
     "data": {
      "text/plain": [
       "377"
      ]
     },
     "execution_count": 10,
     "metadata": {},
     "output_type": "execute_result"
    }
   ],
   "source": [
    "paths = [a_star(_start, end, height_map, h)\n",
    "         for _start in [(i, j)\n",
    "                        for i in range(len(height_map))\n",
    "                        for j in range(len(height_map[0]))\n",
    "                        if height_map[i][j] == 0]]\n",
    "sorted(len(path) - 1 for path in paths if path != -1)[0]"
   ]
  }
 ],
 "metadata": {
  "kernelspec": {
   "display_name": "Python 3 (ipykernel)",
   "language": "python",
   "name": "python3"
  },
  "language_info": {
   "codemirror_mode": {
    "name": "ipython",
    "version": 3
   },
   "file_extension": ".py",
   "mimetype": "text/x-python",
   "name": "python",
   "nbconvert_exporter": "python",
   "pygments_lexer": "ipython3",
   "version": "3.10.6"
  }
 },
 "nbformat": 4,
 "nbformat_minor": 5
}
