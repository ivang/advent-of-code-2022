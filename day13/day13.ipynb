{
 "cells": [
  {
   "cell_type": "code",
   "execution_count": 1,
   "id": "55c85f49",
   "metadata": {},
   "outputs": [],
   "source": [
    "with open(\"input\", \"r\") as f:\n",
    "    pairs = [list(map(eval, pair.split('\\n')))\n",
    "             for pair in f.read().split('\\n\\n')]"
   ]
  },
  {
   "cell_type": "code",
   "execution_count": 2,
   "id": "e6d407c8",
   "metadata": {},
   "outputs": [],
   "source": [
    "def is_in_order(left, right):\n",
    "    _left, _right = left[::-1], right[::-1]\n",
    "    \n",
    "    while len(_left) > 0 and len(_right) > 0:\n",
    "        l, r = _left.pop(), _right.pop() \n",
    "        if isinstance(l, int) and isinstance(r, int):\n",
    "            if l < r:\n",
    "                return True\n",
    "            elif l > r:\n",
    "                return False\n",
    "            else:\n",
    "                continue\n",
    "        if isinstance(l, list) and isinstance(r, list):\n",
    "            result = is_in_order(l, r)\n",
    "            if result is None:\n",
    "                continue\n",
    "            return result\n",
    "        if isinstance(l, int) and isinstance(r, list):\n",
    "            result = is_in_order([l], r)\n",
    "            if result is None:\n",
    "                continue\n",
    "            return result\n",
    "        if isinstance(l, list) and isinstance(r, int):\n",
    "            result = is_in_order(l, [r])\n",
    "            if result is None:\n",
    "                continue\n",
    "            return result\n",
    "        \n",
    "    if len(_left) == len(_right):\n",
    "        return None\n",
    "    return len(_left) < len(_right)"
   ]
  },
  {
   "cell_type": "markdown",
   "id": "f30c8b40",
   "metadata": {},
   "source": [
    "### Part 1"
   ]
  },
  {
   "cell_type": "code",
   "execution_count": 3,
   "id": "f2513bf6",
   "metadata": {},
   "outputs": [
    {
     "data": {
      "text/plain": [
       "5208"
      ]
     },
     "execution_count": 3,
     "metadata": {},
     "output_type": "execute_result"
    }
   ],
   "source": [
    "results = [is_in_order(left, right) for (left, right) in pairs]\n",
    "sum(i + 1 for i, in_order in enumerate(results) if in_order)"
   ]
  },
  {
   "cell_type": "markdown",
   "id": "832812f8",
   "metadata": {},
   "source": [
    "### Part 2"
   ]
  },
  {
   "cell_type": "code",
   "execution_count": 4,
   "id": "4f997047",
   "metadata": {},
   "outputs": [],
   "source": [
    "from functools import cmp_to_key\n",
    "\n",
    "divider1, divider2 = [[2]], [[6]]"
   ]
  },
  {
   "cell_type": "code",
   "execution_count": 5,
   "id": "e5124542",
   "metadata": {},
   "outputs": [],
   "source": [
    "def cmp(left, right):\n",
    "    if is_in_order(left, right):\n",
    "        return -1\n",
    "    return 1"
   ]
  },
  {
   "cell_type": "code",
   "execution_count": 6,
   "id": "a945ab66",
   "metadata": {},
   "outputs": [],
   "source": [
    "unpacked = [_ for pair in pairs for _ in pair]\n",
    "unpacked += [divider1, divider2]\n",
    "\n",
    "signal = sorted(unpacked, key=cmp_to_key(cmp))"
   ]
  },
  {
   "cell_type": "code",
   "execution_count": 7,
   "id": "1257044a",
   "metadata": {},
   "outputs": [
    {
     "data": {
      "text/plain": [
       "25792"
      ]
     },
     "execution_count": 7,
     "metadata": {},
     "output_type": "execute_result"
    }
   ],
   "source": [
    "(signal.index(divider1) + 1) * (signal.index(divider2) + 1)"
   ]
  }
 ],
 "metadata": {
  "kernelspec": {
   "display_name": "Python 3 (ipykernel)",
   "language": "python",
   "name": "python3"
  },
  "language_info": {
   "codemirror_mode": {
    "name": "ipython",
    "version": 3
   },
   "file_extension": ".py",
   "mimetype": "text/x-python",
   "name": "python",
   "nbconvert_exporter": "python",
   "pygments_lexer": "ipython3",
   "version": "3.10.6"
  }
 },
 "nbformat": 4,
 "nbformat_minor": 5
}
