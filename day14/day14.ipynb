{
 "cells": [
  {
   "cell_type": "code",
   "execution_count": 1,
   "id": "886b6faf",
   "metadata": {},
   "outputs": [],
   "source": [
    "import numpy as np\n",
    "from itertools import pairwise"
   ]
  },
  {
   "cell_type": "code",
   "execution_count": 2,
   "id": "f8bf6f5e",
   "metadata": {},
   "outputs": [],
   "source": [
    "with open(\"input\", \"r\") as f:\n",
    "    rock_coords = [[tuple(map(int, point.split(\",\")))\n",
    "                    for point in line.strip().split(\" -> \")]\n",
    "                   for line in f.readlines()]"
   ]
  },
  {
   "cell_type": "code",
   "execution_count": 4,
   "id": "127f1c0f",
   "metadata": {},
   "outputs": [],
   "source": [
    "all_points = [point\n",
    "              for coord_set in rock_coords\n",
    "              for point in coord_set] + [(500, 0)]\n",
    "\n",
    "xs, ys = zip(*all_points)\n",
    "bounds = ((min(xs), max(xs) + 1), (min(ys), max(ys) + 1))"
   ]
  },
  {
   "cell_type": "code",
   "execution_count": 6,
   "id": "cf5e6ec0",
   "metadata": {},
   "outputs": [],
   "source": [
    "def can_go(y, x, surface):\n",
    "    return (surface[y + 1, x] == 0\n",
    "            or surface[y + 1, x - 1] == 0\n",
    "            or surface[y + 1, x + 1] == 0)"
   ]
  },
  {
   "cell_type": "markdown",
   "id": "a27bcb37",
   "metadata": {},
   "source": [
    "### Part 1"
   ]
  },
  {
   "cell_type": "code",
   "execution_count": 7,
   "id": "ab37fcae",
   "metadata": {},
   "outputs": [],
   "source": [
    "surface = np.zeros((bounds[1][1] - bounds[1][0], bounds[0][1] - bounds[0][0] + 2), dtype=int)\n",
    "\n",
    "for rock_coordset in rock_coords:\n",
    "    for start, end in pairwise(rock_coordset):\n",
    "        \n",
    "        min_x = min(start[0], end[0])\n",
    "        max_x = max(start[0], end[0])\n",
    "        min_y = min(start[1], end[1])\n",
    "        max_y = max(start[1], end[1])\n",
    "        \n",
    "        if min_x == max_x:\n",
    "            for y in range(min_y, max_y + 1):\n",
    "                surface[y - bounds[1][0], max_x - bounds[0][0] + 1] = 1\n",
    "        \n",
    "        if min_y == max_y:\n",
    "            for x in range(min_x, max_x + 1):\n",
    "                surface[max_y - bounds[1][0], x - bounds[0][0] + 1] = 1"
   ]
  },
  {
   "cell_type": "code",
   "execution_count": 8,
   "id": "786939a6",
   "metadata": {},
   "outputs": [],
   "source": [
    "nuzzle = (0, 500 - bounds[0][0] + 1)\n",
    "surface[nuzzle] = 8"
   ]
  },
  {
   "cell_type": "code",
   "execution_count": 9,
   "id": "4ad6ebb6",
   "metadata": {},
   "outputs": [],
   "source": [
    "overflowing = False\n",
    "\n",
    "_surface = surface.copy()\n",
    "while not overflowing:\n",
    "    y, x = nuzzle\n",
    "    \n",
    "    while can_go(y, x, _surface):\n",
    "        if _surface[y + 1, x] == 0:\n",
    "            y += 1\n",
    "        elif _surface[y + 1, x - 1] == 0:\n",
    "            y += 1\n",
    "            x -= 1\n",
    "        elif _surface[y + 1, x + 1] == 0:\n",
    "            y += 1\n",
    "            x += 1\n",
    "        if (y + 1 > len(_surface) - 1\n",
    "            or x - 1 < -1\n",
    "            or x + 1 > len(_surface[0]) - 1):\n",
    "            overflowing = True\n",
    "            break\n",
    "    if overflowing:\n",
    "        break\n",
    "    _surface[y, x] = 2"
   ]
  },
  {
   "cell_type": "code",
   "execution_count": 10,
   "id": "86473826",
   "metadata": {},
   "outputs": [
    {
     "data": {
      "text/plain": [
       "808"
      ]
     },
     "execution_count": 10,
     "metadata": {},
     "output_type": "execute_result"
    }
   ],
   "source": [
    "len(_surface[_surface == 2])"
   ]
  },
  {
   "cell_type": "markdown",
   "id": "31cb386f",
   "metadata": {},
   "source": [
    "### Part 2"
   ]
  },
  {
   "cell_type": "code",
   "execution_count": 11,
   "id": "fc750fcc",
   "metadata": {},
   "outputs": [],
   "source": [
    "height = bounds[1][1] - bounds[1][0] + 2\n",
    "width = 2 * height + 1\n",
    "offset = width // 4\n",
    "\n",
    "surface = np.zeros((height, width), dtype=int)\n",
    "\n",
    "for rock_coordset in rock_coords:\n",
    "    for start, end in pairwise(rock_coordset):\n",
    "        \n",
    "        min_x = min(start[0], end[0])\n",
    "        max_x = max(start[0], end[0])\n",
    "        min_y = min(start[1], end[1])\n",
    "        max_y = max(start[1], end[1])\n",
    "        \n",
    "        if min_x == max_x:\n",
    "            for y in range(min_y, max_y + 1):\n",
    "                surface[y, max_x - bounds[0][0] + offset] = 1\n",
    "        \n",
    "        if min_y == max_y:\n",
    "            for x in range(min_x, max_x + 1):\n",
    "                surface[max_y, x - bounds[0][0] + offset] = 1\n",
    "\n",
    "surface[height - 1] = 1"
   ]
  },
  {
   "cell_type": "code",
   "execution_count": 12,
   "id": "b0b58b0c",
   "metadata": {},
   "outputs": [],
   "source": [
    "nuzzle = (0, 500 - bounds[0][0] + offset)\n",
    "\n",
    "surface[nuzzle] = 8"
   ]
  },
  {
   "cell_type": "code",
   "execution_count": 13,
   "id": "38bc4e5b",
   "metadata": {},
   "outputs": [],
   "source": [
    "_surface = surface.copy()\n",
    "\n",
    "while can_go(*nuzzle, _surface):\n",
    "    y, x = nuzzle\n",
    "    \n",
    "    while can_go(y, x, _surface):\n",
    "        if _surface[y + 1, x] == 0:\n",
    "            y += 1\n",
    "        elif _surface[y + 1, x - 1] == 0:\n",
    "            y += 1\n",
    "            x -= 1\n",
    "        elif _surface[y + 1, x + 1] == 0:\n",
    "            y += 1\n",
    "            x += 1\n",
    "        \n",
    "    _surface[y, x] = 2"
   ]
  },
  {
   "cell_type": "code",
   "execution_count": 14,
   "id": "0d3df431",
   "metadata": {},
   "outputs": [
    {
     "data": {
      "text/plain": [
       "26625"
      ]
     },
     "execution_count": 14,
     "metadata": {},
     "output_type": "execute_result"
    }
   ],
   "source": [
    "len(_surface[_surface == 2]) + 1"
   ]
  }
 ],
 "metadata": {
  "kernelspec": {
   "display_name": "Python 3 (ipykernel)",
   "language": "python",
   "name": "python3"
  },
  "language_info": {
   "codemirror_mode": {
    "name": "ipython",
    "version": 3
   },
   "file_extension": ".py",
   "mimetype": "text/x-python",
   "name": "python",
   "nbconvert_exporter": "python",
   "pygments_lexer": "ipython3",
   "version": "3.10.6"
  }
 },
 "nbformat": 4,
 "nbformat_minor": 5
}
