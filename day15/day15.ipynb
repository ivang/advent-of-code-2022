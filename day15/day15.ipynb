{
 "cells": [
  {
   "cell_type": "code",
   "execution_count": 1,
   "id": "84c5ac7b",
   "metadata": {},
   "outputs": [],
   "source": [
    "import re"
   ]
  },
  {
   "cell_type": "code",
   "execution_count": 2,
   "id": "36aae3ca",
   "metadata": {},
   "outputs": [],
   "source": [
    "def manhattan(point1, point2):\n",
    "    return sum(abs(x1 - x2) for x1, x2 in zip(point1, point2))"
   ]
  },
  {
   "cell_type": "code",
   "execution_count": 3,
   "id": "db34b4a9",
   "metadata": {},
   "outputs": [],
   "source": [
    "p = re.compile(\"Sensor at x=([-\\d]+), y=([-\\d]+): closest beacon is at x=([-\\d]+), y=([-\\d]+)\")"
   ]
  },
  {
   "cell_type": "code",
   "execution_count": 4,
   "id": "ceaf694c",
   "metadata": {},
   "outputs": [],
   "source": [
    "with open(\"input\", \"r\") as f:\n",
    "    sensor_map = [tuple(map(int, p.match(line).groups())) for line in f.readlines()]\n",
    "\n",
    "s_xs, s_ys, b_xs, b_ys = zip(*sensor_map)\n",
    "\n",
    "sensors = list(zip(s_xs, s_ys))\n",
    "beacons = list(zip(b_xs, b_ys))"
   ]
  },
  {
   "cell_type": "code",
   "execution_count": 5,
   "id": "cfdaddc9",
   "metadata": {},
   "outputs": [],
   "source": [
    "ranges = [manhattan(*pair) for pair in zip(sensors, beacons)]"
   ]
  },
  {
   "cell_type": "markdown",
   "id": "0ffe8ec5",
   "metadata": {},
   "source": [
    "### Part 1"
   ]
  },
  {
   "cell_type": "code",
   "execution_count": 6,
   "id": "8ac0d6f3",
   "metadata": {},
   "outputs": [],
   "source": [
    "xs = [x for sensor, r in zip(sensors, ranges) for x in (sensor[0] - r, sensor[0] + r)]\n",
    "ys = [y for sensor, r in zip(sensors, ranges) for y in (sensor[1] - r, sensor[1] + r)]"
   ]
  },
  {
   "cell_type": "code",
   "execution_count": 7,
   "id": "b8474938",
   "metadata": {},
   "outputs": [],
   "source": [
    "min_x = min(*xs)\n",
    "max_x = max(*xs)\n",
    "min_y = min(*ys)\n",
    "max_y = max(*ys)\n",
    "\n",
    "check_line = 2_000_000\n",
    "\n",
    "to_check = [(i, check_line) for i in range(min_x, max_x + 1) if (i, check_line) not in beacons]\n",
    "in_range = {p for p in to_check for s, r in zip(sensors, ranges) \n",
    "            if manhattan(p, s) <= r and p not in beacons}"
   ]
  },
  {
   "cell_type": "code",
   "execution_count": 8,
   "id": "536b05e6",
   "metadata": {},
   "outputs": [
    {
     "data": {
      "text/plain": [
       "4951427"
      ]
     },
     "execution_count": 8,
     "metadata": {},
     "output_type": "execute_result"
    }
   ],
   "source": [
    "len(in_range)"
   ]
  },
  {
   "cell_type": "markdown",
   "id": "1dd0fce7",
   "metadata": {},
   "source": [
    "### Part 2"
   ]
  },
  {
   "cell_type": "code",
   "execution_count": 9,
   "id": "ff609a28",
   "metadata": {},
   "outputs": [],
   "source": [
    "to_check = set()\n",
    "lower = 0\n",
    "upper = 4_000_000\n",
    "\n",
    "for sensor, r in zip(sensors, ranges):\n",
    "    for i in range(max(sensor[0] - r, lower), min(sensor[0] + r, upper) + 1):\n",
    "        y = r - (i - sensor[0]) + sensor[1] + 1\n",
    "        y_low = - y - (2 * sensor[1])\n",
    "        if lower <= y <= upper:\n",
    "            to_check.add((i, y))\n",
    "        if lower <= y_low <= upper:\n",
    "            to_check.add((i, y_low))"
   ]
  },
  {
   "cell_type": "code",
   "execution_count": 10,
   "id": "323e4ddd",
   "metadata": {},
   "outputs": [],
   "source": [
    "in_range = to_check.copy()\n",
    "_to_check = to_check.copy()\n",
    "i = 0\n",
    "while len(in_range) > 1 and i <= len(to_check):\n",
    "    i += 1\n",
    "    p = _to_check.pop()\n",
    "    for s, r in zip(sensors, ranges):\n",
    "        if p in in_range and (manhattan(p, s) <= r or p in beacons):\n",
    "            in_range.remove(p)"
   ]
  },
  {
   "cell_type": "code",
   "execution_count": 11,
   "id": "2b03b915",
   "metadata": {},
   "outputs": [],
   "source": [
    "assert len(in_range) == 1"
   ]
  },
  {
   "cell_type": "code",
   "execution_count": 12,
   "id": "2c2144f5",
   "metadata": {},
   "outputs": [
    {
     "data": {
      "text/plain": [
       "13029714573243"
      ]
     },
     "execution_count": 12,
     "metadata": {},
     "output_type": "execute_result"
    }
   ],
   "source": [
    "result = in_range.pop()\n",
    "(result[0]) * 4_000_000 + result[1]"
   ]
  }
 ],
 "metadata": {
  "kernelspec": {
   "display_name": "Python 3 (ipykernel)",
   "language": "python",
   "name": "python3"
  },
  "language_info": {
   "codemirror_mode": {
    "name": "ipython",
    "version": 3
   },
   "file_extension": ".py",
   "mimetype": "text/x-python",
   "name": "python",
   "nbconvert_exporter": "python",
   "pygments_lexer": "ipython3",
   "version": "3.10.6"
  }
 },
 "nbformat": 4,
 "nbformat_minor": 5
}
