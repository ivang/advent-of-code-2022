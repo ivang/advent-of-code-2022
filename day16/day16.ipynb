{
 "cells": [
  {
   "cell_type": "code",
   "execution_count": 1,
   "id": "d7c60dea",
   "metadata": {},
   "outputs": [],
   "source": [
    "import re\n",
    "import networkx as nx\n",
    "from itertools import combinations"
   ]
  },
  {
   "cell_type": "code",
   "execution_count": 2,
   "id": "d275dfee",
   "metadata": {},
   "outputs": [],
   "source": [
    "p = re.compile(\"Valve ([A-Z]{2}) has flow rate=(\\d+); tunnel.? lead.? to valve.? ([A-Z ,]+)$\")\n",
    "\n",
    "with open(\"input\", \"r\") as f:\n",
    "    valve_net_raw = [p.match(line).groups() for line in f.readlines()]"
   ]
  },
  {
   "cell_type": "code",
   "execution_count": 3,
   "id": "24c99af1",
   "metadata": {},
   "outputs": [],
   "source": [
    "G = nx.Graph()\n",
    "G.add_edges_from((node, neighbour)\n",
    "              for node, weight, neighbours in valve_net_raw\n",
    "              for neighbour in neighbours.split(', '))"
   ]
  },
  {
   "cell_type": "code",
   "execution_count": 4,
   "id": "d7c855bd",
   "metadata": {},
   "outputs": [],
   "source": [
    "valve_net = {node: {'neighbours': neighbours.split(', '), 'capacity': int(capacity)}\n",
    "             for node, capacity, neighbours in valve_net_raw}"
   ]
  },
  {
   "cell_type": "code",
   "execution_count": 5,
   "id": "de5373fa",
   "metadata": {},
   "outputs": [],
   "source": [
    "start = 'AA'\n",
    "to_open = [valve for valve, v in valve_net.items() if v['capacity'] != 0] + [start]\n",
    "distances = {tuple(sorted(pair)): len(nx.shortest_path(G, *pair)) - 1\n",
    "             for pair in combinations(to_open, 2)}"
   ]
  },
  {
   "cell_type": "code",
   "execution_count": 6,
   "id": "05600568",
   "metadata": {},
   "outputs": [],
   "source": [
    "def pressure(to_open, valve, t, p):\n",
    "    if t < 1:\n",
    "        return p\n",
    "    \n",
    "    _to_open = to_open.copy()\n",
    "    _to_open.pop(_to_open.index(valve))\n",
    "\n",
    "    if valve != start:\n",
    "        t -= 1\n",
    "        p += valve_net[valve]['capacity'] * t\n",
    "    \n",
    "    if len(_to_open) == 0:\n",
    "        return p\n",
    "    \n",
    "    return max(pressure(_to_open, v, t - distances[tuple(sorted((valve, v)))], p)\n",
    "               for v in _to_open)"
   ]
  },
  {
   "cell_type": "markdown",
   "id": "68470b28",
   "metadata": {},
   "source": [
    "### Part 1"
   ]
  },
  {
   "cell_type": "code",
   "execution_count": 7,
   "id": "5a952078",
   "metadata": {},
   "outputs": [
    {
     "data": {
      "text/plain": [
       "2077"
      ]
     },
     "execution_count": 7,
     "metadata": {},
     "output_type": "execute_result"
    }
   ],
   "source": [
    "pressure(to_open, start, 30, 0)"
   ]
  },
  {
   "cell_type": "markdown",
   "id": "5f28f30c",
   "metadata": {},
   "source": [
    "### Part 2"
   ]
  },
  {
   "cell_type": "code",
   "execution_count": 8,
   "id": "e63df0ec",
   "metadata": {},
   "outputs": [],
   "source": [
    "to_open = [valve for valve, v in valve_net.items() if v['capacity'] != 0]\n",
    "_to_open_combinations = tuple(combinations(to_open, len(to_open) // 2))\n",
    "_me_to_open = _to_open_combinations[:len(_to_open_combinations) // 2]\n",
    "\n",
    "me_to_open = [list(_) + [start] for _ in _me_to_open]\n",
    "elephant_to_open = [list(set(to_open) ^ set(_)) + [start] for _ in _me_to_open]"
   ]
  },
  {
   "cell_type": "code",
   "execution_count": 9,
   "id": "c11dd2e6",
   "metadata": {},
   "outputs": [
    {
     "data": {
      "text/plain": [
       "2741"
      ]
     },
     "execution_count": 9,
     "metadata": {},
     "output_type": "execute_result"
    }
   ],
   "source": [
    "max(pressure(me, start, 26, 0) + pressure(elephant, start, 26, 0)\n",
    "    for me, elephant in zip(me_to_open, elephant_to_open))"
   ]
  }
 ],
 "metadata": {
  "kernelspec": {
   "display_name": "Python 3 (ipykernel)",
   "language": "python",
   "name": "python3"
  },
  "language_info": {
   "codemirror_mode": {
    "name": "ipython",
    "version": 3
   },
   "file_extension": ".py",
   "mimetype": "text/x-python",
   "name": "python",
   "nbconvert_exporter": "python",
   "pygments_lexer": "ipython3",
   "version": "3.10.6"
  }
 },
 "nbformat": 4,
 "nbformat_minor": 5
}
