{
 "cells": [
  {
   "cell_type": "code",
   "execution_count": 1,
   "id": "8e443e24",
   "metadata": {},
   "outputs": [],
   "source": [
    "from itertools import product\n",
    "import numpy as np"
   ]
  },
  {
   "cell_type": "code",
   "execution_count": 2,
   "id": "7c893757",
   "metadata": {},
   "outputs": [],
   "source": [
    "with open(\"input\", \"r\") as f:\n",
    "    droplet_coords = [tuple(int(coord) for coord in line.split(','))\n",
    "                      for line in f.readlines()]"
   ]
  },
  {
   "cell_type": "code",
   "execution_count": 3,
   "id": "568ef985",
   "metadata": {},
   "outputs": [],
   "source": [
    "xs, ys, zs = zip(*droplet_coords)\n",
    "\n",
    "min_x, max_x = min(xs), max(xs)\n",
    "min_y, max_y = min(ys), max(ys)\n",
    "min_z, max_z = min(zs), max(zs)"
   ]
  },
  {
   "cell_type": "code",
   "execution_count": 4,
   "id": "d75a5bed",
   "metadata": {},
   "outputs": [],
   "source": [
    "grid = np.zeros((max_x + 1, max_y + 1, max_z + 1), dtype=int)\n",
    "\n",
    "for x, y, z in droplet_coords:\n",
    "    grid[x, y, z] = 1"
   ]
  },
  {
   "cell_type": "code",
   "execution_count": 5,
   "id": "b1c35180",
   "metadata": {},
   "outputs": [],
   "source": [
    "def neighbours(point):\n",
    "    neighbour_coords = [(x, y, z)\n",
    "                        for x, y, z in product(range(-1, 2), repeat=3)\n",
    "                        if (sum(abs(_) for _ in (x, y, z)) == 1\n",
    "                            and 0 <= point[0] + x <= max_x\n",
    "                            and 0 <= point[1] + y <= max_y\n",
    "                            and 0 <= point[2] + z <= max_z)]\n",
    "    return [(point[0] + x, point[1] + y, point[2] + z)\n",
    "            for (x, y, z) in neighbour_coords]"
   ]
  },
  {
   "cell_type": "markdown",
   "id": "adbe57e6",
   "metadata": {},
   "source": [
    "### Part 1"
   ]
  },
  {
   "cell_type": "code",
   "execution_count": 6,
   "id": "38403d6a",
   "metadata": {},
   "outputs": [
    {
     "data": {
      "text/plain": [
       "4314"
      ]
     },
     "execution_count": 6,
     "metadata": {},
     "output_type": "execute_result"
    }
   ],
   "source": [
    "total_surface = sum(sum(grid[x, y, z] == 0\n",
    "                        for x, y, z in neighbours([x0, y0, z0]))\n",
    "                    + 6 - len(neighbours([x0, y0, z0]))\n",
    "                    for x0 in range(min_x, max_x + 1)\n",
    "                    for y0 in range(min_y, max_y + 1)\n",
    "                    for z0 in range(min_z, max_z + 1)\n",
    "                    if grid[x0, y0, z0] == 1)\n",
    "total_surface"
   ]
  },
  {
   "cell_type": "markdown",
   "id": "1913c007",
   "metadata": {},
   "source": [
    "### Part 2"
   ]
  },
  {
   "cell_type": "code",
   "execution_count": 7,
   "id": "7e73cc15",
   "metadata": {},
   "outputs": [],
   "source": [
    "def h(point_a, point_b):\n",
    "    return sum(abs(coord_a - coord_b)\n",
    "               for coord_a, coord_b in zip(point_a, point_b))"
   ]
  },
  {
   "cell_type": "code",
   "execution_count": 8,
   "id": "5c48fe1d",
   "metadata": {},
   "outputs": [],
   "source": [
    "from heapq import heappop, heappush\n",
    "from math import inf\n",
    "\n",
    "def is_connected(start, goal, matrix, h):\n",
    "\n",
    "    came_from = {}\n",
    "    open_set = []\n",
    "    g_score = {start: 0}\n",
    "    f_score = {start: h(start, goal)}\n",
    "    \n",
    "    heappush(open_set, (f_score[start], start))\n",
    "    \n",
    "    x, y, z = start\n",
    "    \n",
    "    while len(open_set) > 0:\n",
    "        _, current = heappop(open_set)\n",
    "        x, y, z = current\n",
    "        \n",
    "        if current == goal:\n",
    "            return True\n",
    "        \n",
    "        nbrs = [(nbr_x, nbr_y, nbr_z)\n",
    "                for (nbr_x, nbr_y, nbr_z) in neighbours(current)\n",
    "                if matrix[nbr_x, nbr_y, nbr_z] == 0]\n",
    "        \n",
    "        for neighbor in nbrs:\n",
    "            tentative_g_score = g_score.get(current, inf) + 1\n",
    "\n",
    "            if tentative_g_score < g_score.get(neighbor, inf):\n",
    "                came_from[neighbor] = current\n",
    "                g_score[neighbor] = tentative_g_score\n",
    "                f_score[neighbor] = tentative_g_score + h(neighbor, goal)\n",
    "                if (f_score[neighbor], neighbor) not in open_set:\n",
    "                    heappush(open_set, (f_score[neighbor], neighbor))\n",
    "    return False"
   ]
  },
  {
   "cell_type": "code",
   "execution_count": 9,
   "id": "3fbeff00",
   "metadata": {},
   "outputs": [],
   "source": [
    "zeros = [(x0, y0, z0)\n",
    "         for x0 in range(min_x, max_x)\n",
    "         for y0 in range(min_y, max_y)\n",
    "         for z0 in range(min_z, max_z)\n",
    "         if (grid[x0, y0, z0] == 0\n",
    "             and any(grid[x, y, z] == 1\n",
    "                     for x, y, z in neighbours((x0, y0, z0))))]"
   ]
  },
  {
   "cell_type": "code",
   "execution_count": 10,
   "id": "1ed090cb",
   "metadata": {},
   "outputs": [],
   "source": [
    "pocket_surface = sum(sum(grid[xn, yn, zn] for (xn, yn, zn) in neighbours((x0, y0, z0)))\n",
    "                     for x0, y0, z0 in zeros\n",
    "                     if not is_connected((x0, y0, z0), (0, 0, 0), grid, h))"
   ]
  },
  {
   "cell_type": "code",
   "execution_count": 11,
   "id": "979d9aee",
   "metadata": {},
   "outputs": [
    {
     "data": {
      "text/plain": [
       "2444"
      ]
     },
     "execution_count": 11,
     "metadata": {},
     "output_type": "execute_result"
    }
   ],
   "source": [
    "total_surface - pocket_surface"
   ]
  }
 ],
 "metadata": {
  "kernelspec": {
   "display_name": "Python 3 (ipykernel)",
   "language": "python",
   "name": "python3"
  },
  "language_info": {
   "codemirror_mode": {
    "name": "ipython",
    "version": 3
   },
   "file_extension": ".py",
   "mimetype": "text/x-python",
   "name": "python",
   "nbconvert_exporter": "python",
   "pygments_lexer": "ipython3",
   "version": "3.10.6"
  }
 },
 "nbformat": 4,
 "nbformat_minor": 5
}
