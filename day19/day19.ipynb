{
 "cells": [
  {
   "cell_type": "code",
   "execution_count": 1,
   "id": "86754712",
   "metadata": {},
   "outputs": [],
   "source": [
    "import re"
   ]
  },
  {
   "cell_type": "code",
   "execution_count": 2,
   "id": "06f57262",
   "metadata": {},
   "outputs": [],
   "source": [
    "with open(\"input\", \"r\") as f:\n",
    "    lines = [tuple(line.strip().split(\": \")) for line in f.readlines()]"
   ]
  },
  {
   "cell_type": "code",
   "execution_count": 3,
   "id": "668c7c2e",
   "metadata": {},
   "outputs": [],
   "source": [
    "p = re.compile(\"Each ([a-z]+) robot costs (\\d+) ore(?: and (\\d+) (clay|obsidian))?\")"
   ]
  },
  {
   "cell_type": "code",
   "execution_count": 4,
   "id": "d8c1d0de",
   "metadata": {},
   "outputs": [],
   "source": [
    "_blueprints = {int(bid.split()[1]): [p.match(blueprint).groups()\n",
    "                                     for blueprint in _blueprint.split('. ')]\n",
    "               for bid, _blueprint in lines}"
   ]
  },
  {
   "cell_type": "code",
   "execution_count": 5,
   "id": "6e06f6ce",
   "metadata": {},
   "outputs": [],
   "source": [
    "blueprints = {}\n",
    "for i, blueprint in _blueprints.items():\n",
    "    resources = {}\n",
    "    for rob_typ, ore, other_quantity, other in blueprint:\n",
    "        resources[rob_typ] = {'ore': int(ore)}\n",
    "        if other is not None:\n",
    "            resources[rob_typ][other] = int(other_quantity)\n",
    "    blueprints[i] = resources"
   ]
  },
  {
   "cell_type": "code",
   "execution_count": 6,
   "id": "d4d21028",
   "metadata": {},
   "outputs": [],
   "source": [
    "def has_resources(robot_cost, resources):\n",
    "    return all(resources[typ] >= robot_cost[typ] for typ in robot_cost.keys())"
   ]
  },
  {
   "cell_type": "code",
   "execution_count": 7,
   "id": "513aa49a",
   "metadata": {},
   "outputs": [],
   "source": [
    "def is_needed(robot_type, resources, robots):\n",
    "    if robot_type == 'geode':\n",
    "        return True\n",
    "    if robot_type == 'obsidian':\n",
    "        return (robots['obsidian'] < robot_costs['geode']['obsidian']\n",
    "                and resources['obsidian'] <= 1 * robot_costs['geode']['obsidian'])\n",
    "    if robot_type == 'ore':\n",
    "        return (robots['ore'] < max(robot_costs[typ]['ore'] for typ in robot_costs.keys())\n",
    "                and any(resources['ore'] <= 1.35 * robot_costs[typ]['ore'] for typ in robot_costs.keys()))\n",
    "    if robot_type == 'clay':\n",
    "        return (robots['clay'] < robot_costs['obsidian']['clay']\n",
    "                and robots['obsidian'] < robot_costs['geode']['obsidian'])\n",
    "    return False"
   ]
  },
  {
   "cell_type": "code",
   "execution_count": 8,
   "id": "7ddb346d",
   "metadata": {},
   "outputs": [],
   "source": [
    "def geode(t, robot_type, resources, robots):\n",
    "    \n",
    "    cache_key = tuple(robots.values()) + tuple(resources.values()) + (robot_type,)\n",
    "    if cache_key in cache:\n",
    "        if t >= cache[cache_key]:\n",
    "            return 0, (robots, resources)\n",
    "        \n",
    "    cache[cache_key] = t\n",
    "    \n",
    "    _resources = resources.copy()\n",
    "    _robots = robots.copy()\n",
    "    \n",
    "    if t == n_periods - 1:\n",
    "        for typ in _robots.keys():\n",
    "            _resources[typ] += _robots[typ]\n",
    "        \n",
    "        return (_resources['geode'], (_robots, _resources))\n",
    "    \n",
    "    new_robots = {k: 0 for k in _robots.keys()}\n",
    "    \n",
    "    if robot_type in robot_costs.keys() and has_resources(robot_costs[robot_type], _resources):\n",
    "            for resource_type in robot_costs[robot_type].keys():\n",
    "                assert _resources[resource_type] >= robot_costs[robot_type][resource_type]\n",
    "                _resources[resource_type] -= robot_costs[robot_type][resource_type]\n",
    "            new_robots[robot_type] = 1\n",
    "    \n",
    "    for typ in _robots.keys():\n",
    "        _resources[typ] += _robots[typ]\n",
    "        _robots[typ] += new_robots[typ]\n",
    "    \n",
    "    to_build = list(robot_costs.keys()) + ['wait']\n",
    "    \n",
    "    if has_resources(robot_costs['geode'], _resources):\n",
    "        return geode(t + 1, 'geode', _resources, _robots)\n",
    "    \n",
    "    return max((geode(t + 1, _robot_type, _resources, _robots)\n",
    "               for _robot_type in to_build\n",
    "               if (_robot_type == 'wait'\n",
    "                   or (has_resources(robot_costs[_robot_type], _resources)\n",
    "                       and is_needed(_robot_type, _resources, _robots)))), key=lambda x: x[0])"
   ]
  },
  {
   "cell_type": "markdown",
   "id": "4f8b1b99",
   "metadata": {},
   "source": [
    "### Part 1"
   ]
  },
  {
   "cell_type": "code",
   "execution_count": 9,
   "id": "99d80e42",
   "metadata": {},
   "outputs": [
    {
     "name": "stdout",
     "output_type": "stream",
     "text": [
      "Starting blueprint 1\n",
      "Starting blueprint 2\n",
      "Starting blueprint 3\n",
      "Starting blueprint 4\n",
      "Starting blueprint 5\n",
      "Starting blueprint 6\n",
      "Starting blueprint 7\n",
      "Starting blueprint 8\n",
      "Starting blueprint 9\n",
      "Starting blueprint 10\n",
      "Starting blueprint 11\n",
      "Starting blueprint 12\n",
      "Starting blueprint 13\n",
      "Starting blueprint 14\n",
      "Starting blueprint 15\n",
      "Starting blueprint 16\n",
      "Starting blueprint 17\n",
      "Starting blueprint 18\n",
      "Starting blueprint 19\n",
      "Starting blueprint 20\n",
      "Starting blueprint 21\n",
      "Starting blueprint 22\n",
      "Starting blueprint 23\n",
      "Starting blueprint 24\n",
      "Starting blueprint 25\n",
      "Starting blueprint 26\n",
      "Starting blueprint 27\n",
      "Starting blueprint 28\n",
      "Starting blueprint 29\n",
      "Starting blueprint 30\n",
      "CPU times: user 3min 42s, sys: 3.95 s, total: 3min 46s\n",
      "Wall time: 3min 48s\n"
     ]
    }
   ],
   "source": [
    "results = []\n",
    "\n",
    "for i in blueprints.keys():\n",
    "    print(f\"Starting blueprint {i}\")\n",
    "    robots = {'ore': 1, 'clay': 0, 'obsidian': 0, 'geode': 0}\n",
    "    resources = {'ore': 0, 'clay': 0, 'obsidian': 0, 'geode': 0}\n",
    "\n",
    "    robot_costs = blueprints[i]\n",
    "    cache = {}\n",
    "    n_periods = 24\n",
    "    \n",
    "    results.append((i, geode(0, \"wait\", resources, robots)))"
   ]
  },
  {
   "cell_type": "code",
   "execution_count": 10,
   "id": "77acd8b8",
   "metadata": {},
   "outputs": [
    {
     "data": {
      "text/plain": [
       "1599"
      ]
     },
     "execution_count": 10,
     "metadata": {},
     "output_type": "execute_result"
    }
   ],
   "source": [
    "sum(i * res[0] for i, res in results)"
   ]
  },
  {
   "cell_type": "markdown",
   "id": "a999bde1",
   "metadata": {},
   "source": [
    "### Part 2"
   ]
  },
  {
   "cell_type": "code",
   "execution_count": 11,
   "id": "bb09e49d",
   "metadata": {},
   "outputs": [
    {
     "name": "stdout",
     "output_type": "stream",
     "text": [
      "Starting blueprint 1\n",
      "Starting blueprint 2\n",
      "Starting blueprint 3\n"
     ]
    }
   ],
   "source": [
    "results_part2 = []\n",
    "\n",
    "for i in range(1, 4):\n",
    "    print(f\"Starting blueprint {i}\")\n",
    "    robots = {'ore': 1, 'clay': 0, 'obsidian': 0, 'geode': 0}\n",
    "    resources = {'ore': 0, 'clay': 0, 'obsidian': 0, 'geode': 0}\n",
    "\n",
    "    robot_costs = blueprints[i]\n",
    "    n_periods = 32\n",
    "    \n",
    "    cache = {}\n",
    "    results_part2.append((i, geode(0, \"wait\", resources, robots)))"
   ]
  },
  {
   "cell_type": "code",
   "execution_count": 12,
   "id": "c1f56b79",
   "metadata": {},
   "outputs": [
    {
     "data": {
      "text/plain": [
       "14112"
      ]
     },
     "execution_count": 12,
     "metadata": {},
     "output_type": "execute_result"
    }
   ],
   "source": [
    "score = 1\n",
    "for i, (result, _) in results_part2:\n",
    "    score *= result\n",
    "score"
   ]
  }
 ],
 "metadata": {
  "kernelspec": {
   "display_name": "Python 3 (ipykernel)",
   "language": "python",
   "name": "python3"
  },
  "language_info": {
   "codemirror_mode": {
    "name": "ipython",
    "version": 3
   },
   "file_extension": ".py",
   "mimetype": "text/x-python",
   "name": "python",
   "nbconvert_exporter": "python",
   "pygments_lexer": "ipython3",
   "version": "3.10.6"
  }
 },
 "nbformat": 4,
 "nbformat_minor": 5
}
