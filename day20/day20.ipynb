{
 "cells": [
  {
   "cell_type": "code",
   "execution_count": 1,
   "id": "ece1aaaa",
   "metadata": {},
   "outputs": [],
   "source": [
    "with open(\"input\", \"r\") as f:\n",
    "    numbers = [int(line.strip()) for line in f.readlines()]"
   ]
  },
  {
   "cell_type": "code",
   "execution_count": 2,
   "id": "01db985a",
   "metadata": {},
   "outputs": [],
   "source": [
    "def mix(numbers, initial_arrangement, stop_after=None):\n",
    "\n",
    "    tmp_numbers = numbers.copy()\n",
    "    \n",
    "    for i, n in initial_arrangement[:stop_after]:\n",
    "        idx = tmp_numbers.index((i, n))\n",
    "        \n",
    "        tmp_numbers.pop(idx)\n",
    "        \n",
    "        new_idx = (idx + n) % len(tmp_numbers)\n",
    "        if new_idx == 0 and idx != 0:\n",
    "            new_idx = len(tmp_numbers)\n",
    "    \n",
    "        tmp_numbers = tmp_numbers[:new_idx] + [(i, n)] + tmp_numbers[new_idx:]\n",
    "    return tmp_numbers"
   ]
  },
  {
   "cell_type": "markdown",
   "id": "2b81025e",
   "metadata": {},
   "source": [
    "### Part 1"
   ]
  },
  {
   "cell_type": "code",
   "execution_count": 3,
   "id": "57949a75",
   "metadata": {},
   "outputs": [
    {
     "data": {
      "text/plain": [
       "2215"
      ]
     },
     "execution_count": 3,
     "metadata": {},
     "output_type": "execute_result"
    }
   ],
   "source": [
    "initial = list(enumerate(numbers))\n",
    "result_numbers = [num for _, num in mix(initial, initial)]\n",
    "\n",
    "zero_idx = result_numbers.index(0)\n",
    "sum(result_numbers[(zero_idx + offset) % len(result_numbers)] for offset in (1000, 2000, 3000))"
   ]
  },
  {
   "cell_type": "markdown",
   "id": "afe790bd",
   "metadata": {},
   "source": [
    "### Part 2"
   ]
  },
  {
   "cell_type": "code",
   "execution_count": 4,
   "id": "8857c1c5",
   "metadata": {},
   "outputs": [],
   "source": [
    "decryption_key = 811589153"
   ]
  },
  {
   "cell_type": "code",
   "execution_count": 5,
   "id": "2834599f",
   "metadata": {},
   "outputs": [],
   "source": [
    "initial_numbers = [(i, n * decryption_key) for i, n in enumerate(numbers)]\n",
    "key_numbers = initial_numbers.copy()\n",
    "\n",
    "for mix_round in range(10):\n",
    "    key_numbers = mix(key_numbers, initial_numbers)"
   ]
  },
  {
   "cell_type": "code",
   "execution_count": 6,
   "id": "5a8784c1",
   "metadata": {},
   "outputs": [
    {
     "data": {
      "text/plain": [
       "8927480683"
      ]
     },
     "execution_count": 6,
     "metadata": {},
     "output_type": "execute_result"
    }
   ],
   "source": [
    "result_numbers = [num for _, num in key_numbers]\n",
    "\n",
    "zero_idx = result_numbers.index(0)\n",
    "sum(result_numbers[(zero_idx + offset) % len(result_numbers)] for offset in (1000, 2000, 3000))"
   ]
  }
 ],
 "metadata": {
  "kernelspec": {
   "display_name": "Python 3 (ipykernel)",
   "language": "python",
   "name": "python3"
  },
  "language_info": {
   "codemirror_mode": {
    "name": "ipython",
    "version": 3
   },
   "file_extension": ".py",
   "mimetype": "text/x-python",
   "name": "python",
   "nbconvert_exporter": "python",
   "pygments_lexer": "ipython3",
   "version": "3.10.6"
  }
 },
 "nbformat": 4,
 "nbformat_minor": 5
}
