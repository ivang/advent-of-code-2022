{
 "cells": [
  {
   "cell_type": "code",
   "execution_count": 1,
   "id": "7da196f4",
   "metadata": {},
   "outputs": [],
   "source": [
    "import re"
   ]
  },
  {
   "cell_type": "code",
   "execution_count": 2,
   "id": "c6dfa1a0",
   "metadata": {},
   "outputs": [],
   "source": [
    "with open(\"input\", \"r\") as f:\n",
    "    monkeys_raw = {k: v for k, v in [line.strip().split(\": \") for line in f.readlines()]}"
   ]
  },
  {
   "cell_type": "code",
   "execution_count": 3,
   "id": "1dbb4eec",
   "metadata": {},
   "outputs": [],
   "source": [
    "num_pattern = re.compile('^\\d+$')\n",
    "monkeys = {}\n",
    "\n",
    "for monkey, yell in monkeys_raw.items():\n",
    "    if num_pattern.match(yell):\n",
    "        monkeys[monkey] = yell\n",
    "    else:\n",
    "        monkeys[monkey] = yell.split()"
   ]
  },
  {
   "cell_type": "markdown",
   "id": "d2d9d327",
   "metadata": {},
   "source": [
    "### Part 1"
   ]
  },
  {
   "cell_type": "code",
   "execution_count": 4,
   "id": "051015f6",
   "metadata": {},
   "outputs": [],
   "source": [
    "def yells(monkeys, k):\n",
    "    if k not in monkeys:\n",
    "        return k\n",
    "    \n",
    "    if not isinstance(monkeys[k], list):\n",
    "        return monkeys[k]\n",
    "    \n",
    "    return str(eval(\"\".join([yells(monkeys, _) for _ in monkeys[k]])))"
   ]
  },
  {
   "cell_type": "code",
   "execution_count": 5,
   "id": "5952bdb4",
   "metadata": {},
   "outputs": [
    {
     "data": {
      "text/plain": [
       "155708040358220"
      ]
     },
     "execution_count": 5,
     "metadata": {},
     "output_type": "execute_result"
    }
   ],
   "source": [
    "int(float(yells(monkeys, 'root')))"
   ]
  },
  {
   "cell_type": "markdown",
   "id": "7f86a1ce",
   "metadata": {},
   "source": [
    "### Part 2"
   ]
  },
  {
   "cell_type": "code",
   "execution_count": 6,
   "id": "109c710a",
   "metadata": {},
   "outputs": [],
   "source": [
    "def yells2(monkeys, k, ans=\"x\"):\n",
    "    if k not in monkeys:\n",
    "        return k\n",
    "    \n",
    "    if k == \"humn\":\n",
    "        return ans\n",
    "    \n",
    "    if not isinstance(monkeys[k], list):\n",
    "        return monkeys[k]\n",
    "    \n",
    "    return [yells2(monkeys, _, ans=ans) if (k != 'root' or _ in monkeys) else '='\n",
    "            for _ in monkeys[k]]\n",
    "\n",
    "def evaluate(term):\n",
    "    if not isinstance(term, list):\n",
    "        return term\n",
    "    \n",
    "    return str(eval(\"\".join(evaluate(t) for t in term)))\n",
    "\n",
    "def is_in(x, nested_list):\n",
    "    if x in nested_list:\n",
    "        return True\n",
    "    \n",
    "    return any(is_in(x, sublist) for sublist in nested_list if isinstance(sublist, list))"
   ]
  },
  {
   "cell_type": "code",
   "execution_count": 7,
   "id": "f4a8e919",
   "metadata": {},
   "outputs": [],
   "source": [
    "def solve(equation):\n",
    "    inv_operations = {\n",
    "        '/': '*',\n",
    "        '*': '/',\n",
    "        '-': '+',\n",
    "        '+': '-'\n",
    "    }\n",
    "    \n",
    "    lhs = equation[0]\n",
    "    rhs = equation[2]\n",
    "    \n",
    "    while 'x' != lhs:\n",
    "        assert len(lhs) == 3, lhs\n",
    "        assert len(rhs) == 3\n",
    "        \n",
    "        rhs = [rhs]\n",
    "        operation = lhs.pop(1)\n",
    "        \n",
    "        if is_in('x', lhs[0]):\n",
    "            rhs.append(inv_operations[operation])\n",
    "            rhs.append(lhs[1])\n",
    "            lhs = lhs[0]\n",
    "        else:\n",
    "            if operation == '-':\n",
    "                rhs = [lhs[0], '-', rhs[0]]\n",
    "            else:\n",
    "                rhs.append(inv_operations[operation])\n",
    "                rhs.append(lhs[0])\n",
    "            lhs = lhs[1]\n",
    "\n",
    "    return rhs"
   ]
  },
  {
   "cell_type": "code",
   "execution_count": 8,
   "id": "c82b00ba",
   "metadata": {},
   "outputs": [],
   "source": [
    "equation = yells2(monkeys, \"root\")"
   ]
  },
  {
   "cell_type": "code",
   "execution_count": 9,
   "id": "2ecfbe53",
   "metadata": {},
   "outputs": [
    {
     "data": {
      "text/plain": [
       "3342154812537"
      ]
     },
     "execution_count": 9,
     "metadata": {},
     "output_type": "execute_result"
    }
   ],
   "source": [
    "int(float(evaluate(solve(equation))))"
   ]
  }
 ],
 "metadata": {
  "kernelspec": {
   "display_name": "Python 3 (ipykernel)",
   "language": "python",
   "name": "python3"
  },
  "language_info": {
   "codemirror_mode": {
    "name": "ipython",
    "version": 3
   },
   "file_extension": ".py",
   "mimetype": "text/x-python",
   "name": "python",
   "nbconvert_exporter": "python",
   "pygments_lexer": "ipython3",
   "version": "3.10.6"
  }
 },
 "nbformat": 4,
 "nbformat_minor": 5
}
