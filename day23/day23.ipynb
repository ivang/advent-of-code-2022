{
 "cells": [
  {
   "cell_type": "code",
   "execution_count": 1,
   "id": "c1700b71",
   "metadata": {},
   "outputs": [],
   "source": [
    "from itertools import product, cycle, islice"
   ]
  },
  {
   "cell_type": "code",
   "execution_count": 2,
   "id": "e057ac25",
   "metadata": {},
   "outputs": [],
   "source": [
    "with open(\"input\", \"r\") as f:\n",
    "    elves = [(y, x)\n",
    "             for y, line in enumerate(f.readlines())\n",
    "             for x, pos in enumerate(line)\n",
    "             if pos == '#']"
   ]
  },
  {
   "cell_type": "code",
   "execution_count": 3,
   "id": "4be85cb2",
   "metadata": {},
   "outputs": [],
   "source": [
    "directions = ['NW', 'N', 'NE', 'W', '_', 'E', 'SW', 'S', 'SE']\n",
    "\n",
    "neighbour_coords = {direction: (x, y)\n",
    "                    for direction, (x, y) in zip(directions, product(range(-1, 2), repeat=2))\n",
    "                    if (sum(abs(_) for _ in (x, y)) > 0)}"
   ]
  },
  {
   "cell_type": "code",
   "execution_count": 4,
   "id": "0dc6bbc5",
   "metadata": {},
   "outputs": [],
   "source": [
    "def neighbours(point):\n",
    "    return {direction: (point[0] + x, point[1] + y)\n",
    "            for direction, (x, y) in neighbour_coords.items()}"
   ]
  },
  {
   "cell_type": "code",
   "execution_count": 5,
   "id": "a33da59f",
   "metadata": {},
   "outputs": [],
   "source": [
    "def elf_round(neighbour_elves, round_no):\n",
    "    \n",
    "    main_directions = ['N', 'S', 'W', 'E']\n",
    "    not_moving = set()\n",
    "    propositions = {}\n",
    "    _elves = set()\n",
    "    \n",
    "    _directions = list(islice(cycle(main_directions), round_no, round_no + 4))\n",
    "\n",
    "    for elf in neighbour_elves.keys():\n",
    "        \n",
    "        if (len(neighbour_elves[elf]) == 0 \n",
    "            or all(direction in \"\".join(neighbour_elves[elf].keys())\n",
    "                   for direction in main_directions)):\n",
    "            _elves.add(elf)\n",
    "            continue\n",
    "\n",
    "        for direction in _directions:\n",
    "            if direction not in \"\".join(neighbour_elves[elf].keys()):\n",
    "                new_pos = neighbours(elf)[direction]\n",
    "                \n",
    "                if new_pos in propositions.keys():\n",
    "                    not_moving.add(new_pos)\n",
    "                    _elves.add(elf)\n",
    "                else:\n",
    "                    propositions[new_pos] = elf\n",
    "                break\n",
    "    \n",
    "    for prop, elf in propositions.items():\n",
    "        if prop not in not_moving:\n",
    "            _elves.add(prop)\n",
    "        else:\n",
    "            _elves.add(elf)\n",
    "      \n",
    "    return {elf: {direction: pos\n",
    "                  for direction, pos in neighbours(elf).items()\n",
    "                  if pos in _elves}\n",
    "            for elf in _elves}"
   ]
  },
  {
   "cell_type": "markdown",
   "id": "78a55fd7",
   "metadata": {},
   "source": [
    "### Part 1"
   ]
  },
  {
   "cell_type": "code",
   "execution_count": 6,
   "id": "190a9ff7",
   "metadata": {},
   "outputs": [],
   "source": [
    "neighbour_elves = {elf: {direction: pos\n",
    "                         for direction, pos in neighbours(elf).items()\n",
    "                         if pos in elves}\n",
    "                   for elf in elves}"
   ]
  },
  {
   "cell_type": "code",
   "execution_count": 7,
   "id": "6ca5de0a",
   "metadata": {},
   "outputs": [
    {
     "data": {
      "text/plain": [
       "3788"
      ]
     },
     "execution_count": 7,
     "metadata": {},
     "output_type": "execute_result"
    }
   ],
   "source": [
    "for round_no in range(10):      \n",
    "    neighbour_elves = elf_round(neighbour_elves, round_no)\n",
    "\n",
    "max_x = max(neighbour_elves.keys(), key=lambda x: x[1])[1]\n",
    "min_x = min(neighbour_elves.keys(), key=lambda x: x[1])[1]\n",
    "max_y = max(neighbour_elves.keys(), key=lambda x: x[0])[0]\n",
    "min_y = min(neighbour_elves.keys(), key=lambda x: x[0])[0]\n",
    "(max_x - min_x + 1) * (max_y - min_y + 1) - len(neighbour_elves)"
   ]
  },
  {
   "cell_type": "markdown",
   "id": "5dc40fbe",
   "metadata": {},
   "source": [
    "### Part 2"
   ]
  },
  {
   "cell_type": "code",
   "execution_count": 8,
   "id": "6c8b7521",
   "metadata": {},
   "outputs": [],
   "source": [
    "neighbour_elves = {elf: {direction: pos\n",
    "                         for direction, pos in neighbours(elf).items()\n",
    "                         if pos in elves}\n",
    "                   for elf in elves}"
   ]
  },
  {
   "cell_type": "code",
   "execution_count": 9,
   "id": "6623ebce",
   "metadata": {},
   "outputs": [
    {
     "data": {
      "text/plain": [
       "921"
      ]
     },
     "execution_count": 9,
     "metadata": {},
     "output_type": "execute_result"
    }
   ],
   "source": [
    "round_no = 0\n",
    "while any(len(neighbours) > 0 for neighbours in neighbour_elves.values()):\n",
    "    neighbour_elves = elf_round(neighbour_elves, round_no)\n",
    "    round_no += 1\n",
    "round_no + 1"
   ]
  }
 ],
 "metadata": {
  "kernelspec": {
   "display_name": "Python 3 (ipykernel)",
   "language": "python",
   "name": "python3"
  },
  "language_info": {
   "codemirror_mode": {
    "name": "ipython",
    "version": 3
   },
   "file_extension": ".py",
   "mimetype": "text/x-python",
   "name": "python",
   "nbconvert_exporter": "python",
   "pygments_lexer": "ipython3",
   "version": "3.10.6"
  }
 },
 "nbformat": 4,
 "nbformat_minor": 5
}
