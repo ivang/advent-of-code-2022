{
 "cells": [
  {
   "cell_type": "code",
   "execution_count": 1,
   "id": "87aca57d",
   "metadata": {},
   "outputs": [],
   "source": [
    "from copy import deepcopy\n",
    "from heapq import heappop, heappush\n",
    "from itertools import product\n",
    "from math import inf\n",
    "\n",
    "import numpy as np"
   ]
  },
  {
   "cell_type": "code",
   "execution_count": 2,
   "id": "d2e274f1",
   "metadata": {},
   "outputs": [],
   "source": [
    "with open(\"input\", \"r\") as f:\n",
    "    blizzard_map_raw = [line.strip() for line in f.readlines()]\n",
    "    \n",
    "blizzard_map = {(i-1, j-1): list() if blizzard == '.' else list(blizzard)\n",
    "                for i, line in enumerate(blizzard_map_raw)\n",
    "                for j, blizzard in enumerate(line)\n",
    "                if blizzard != '#'\n",
    "               }\n",
    "\n",
    "size_y, size_x = len(blizzard_map_raw) - 2, len(blizzard_map_raw[0]) - 2\n",
    "shape = np.array((size_y, size_x))"
   ]
  },
  {
   "cell_type": "code",
   "execution_count": 3,
   "id": "df8e34df",
   "metadata": {},
   "outputs": [],
   "source": [
    "def blizzard_progress(blizzard_map):\n",
    "    _blizzard_map = deepcopy(blizzard_map)\n",
    "    blizzard_moves = {\n",
    "        '>': (0, 1),\n",
    "        '<': (0, -1),\n",
    "        'v': (1, 0),\n",
    "        '^': (-1, 0)\n",
    "    }\n",
    "    \n",
    "    while True:\n",
    "        old_blizzard_map = deepcopy(_blizzard_map)\n",
    "        _blizzard_map = {}\n",
    "        \n",
    "        for coords in old_blizzard_map.keys():\n",
    "            while len(old_blizzard_map[coords]) > 0:\n",
    "                blizzard = old_blizzard_map[coords].pop()\n",
    "                _coords = tuple((np.array(coords) + np.array(blizzard_moves[blizzard])) % shape)\n",
    "                if _coords not in _blizzard_map:\n",
    "                    _blizzard_map[_coords] = list()\n",
    "                _blizzard_map[_coords].append(blizzard)\n",
    "\n",
    "            if coords not in _blizzard_map:\n",
    "                _blizzard_map[coords] = list()\n",
    "                \n",
    "        yield _blizzard_map "
   ]
  },
  {
   "cell_type": "code",
   "execution_count": 4,
   "id": "ea210cf6",
   "metadata": {},
   "outputs": [],
   "source": [
    "def h(point_a, point_b):\n",
    "    return sum(abs(coord_a - coord_b)\n",
    "               for coord_a, coord_b in zip(point_a, point_b))"
   ]
  },
  {
   "cell_type": "code",
   "execution_count": 5,
   "id": "d11fadff",
   "metadata": {},
   "outputs": [],
   "source": [
    "def reconstruct_path(came_from, current):\n",
    "    path = [current]\n",
    "\n",
    "    while current in came_from:\n",
    "        current = came_from[current]\n",
    "        path = [current] + path\n",
    "    \n",
    "    return path"
   ]
  },
  {
   "cell_type": "code",
   "execution_count": 6,
   "id": "55c67d59",
   "metadata": {},
   "outputs": [],
   "source": [
    "def path_in_blizzard(start, goal, blizzard_map, h):\n",
    "\n",
    "    blizzard_maps = [blizzard_map]\n",
    "    blizzard_step = blizzard_progress(blizzard_map)\n",
    "    \n",
    "    came_from = {}\n",
    "    open_set = []\n",
    "    g_score = {start: 0}\n",
    "    f_score = {start: h(start[:2], goal)}\n",
    "    \n",
    "    heappush(open_set, (f_score[start], start))\n",
    "    \n",
    "    x, y, t = start\n",
    "    if goal not in blizzard_map:\n",
    "        return None\n",
    "    \n",
    "    while len(open_set) > 0:\n",
    "        _, current = heappop(open_set)\n",
    "        x, y, t = current\n",
    "        \n",
    "        if (x, y) == goal:\n",
    "            return reconstruct_path(came_from, current), blizzard_maps[-1]\n",
    "        \n",
    "        neighbors = []\n",
    "        while t + 1 > len(blizzard_maps) - 1:\n",
    "            blizzard_maps.append(next(blizzard_step))\n",
    "\n",
    "        neighbors = [(x + x0, y + y0, t + 1) for x0, y0 in product(range(-1, 2), repeat=2)\n",
    "                     if abs(x0) + abs(y0) <= 1\n",
    "                     and (((shape - np.array((x + x0, y + y0)) > 0).all()\n",
    "                           and (np.array((x + x0, y + y0)) >= 0).all())\n",
    "                          or (x == x + x0 and y == y + y0)\n",
    "                          or (x + x0, y + y0) == goal)\n",
    "                     and len(blizzard_maps[t + 1][x + x0, y + y0]) == 0]\n",
    "        \n",
    "\n",
    "        \n",
    "        for neighbor in neighbors:\n",
    "            tentative_g_score = g_score.get(current, inf) + 1\n",
    "\n",
    "            if tentative_g_score < g_score.get(neighbor, inf):\n",
    "                came_from[neighbor] = current\n",
    "                g_score[neighbor] = tentative_g_score\n",
    "                f_score[neighbor] = tentative_g_score + h(neighbor, goal)\n",
    "                if (f_score[neighbor], neighbor) not in open_set:\n",
    "                    heappush(open_set, (f_score[neighbor], neighbor))\n",
    "    return None"
   ]
  },
  {
   "cell_type": "code",
   "execution_count": 7,
   "id": "083235a5",
   "metadata": {},
   "outputs": [],
   "source": [
    "start = (-1, blizzard_map_raw[0].index('.') - 1)\n",
    "goal = (len(blizzard_map_raw) - 2, blizzard_map_raw[-1].index('.') - 1)"
   ]
  },
  {
   "cell_type": "markdown",
   "id": "27cb37c7",
   "metadata": {},
   "source": [
    "### Part 1"
   ]
  },
  {
   "cell_type": "code",
   "execution_count": 8,
   "id": "95060e8b",
   "metadata": {},
   "outputs": [
    {
     "data": {
      "text/plain": [
       "279"
      ]
     },
     "execution_count": 8,
     "metadata": {},
     "output_type": "execute_result"
    }
   ],
   "source": [
    "path, blizzard_map = path_in_blizzard((*start, 0), goal, blizzard_map, h)\n",
    "\n",
    "len(path) - 1"
   ]
  },
  {
   "cell_type": "markdown",
   "id": "de6b4246",
   "metadata": {},
   "source": [
    "### Part 2"
   ]
  },
  {
   "cell_type": "code",
   "execution_count": 9,
   "id": "b7dde594",
   "metadata": {},
   "outputs": [
    {
     "data": {
      "text/plain": [
       "762"
      ]
     },
     "execution_count": 9,
     "metadata": {},
     "output_type": "execute_result"
    }
   ],
   "source": [
    "path_back, blizzard_map = path_in_blizzard((*goal, 0), start, blizzard_map, h)\n",
    "path_forward, blizzard_map = path_in_blizzard((*start, 0), goal, blizzard_map, h)\n",
    "\n",
    "len(path) - 1 + len(path_forward) - 1 + len(path_back) - 1"
   ]
  }
 ],
 "metadata": {
  "kernelspec": {
   "display_name": "Python 3 (ipykernel)",
   "language": "python",
   "name": "python3"
  },
  "language_info": {
   "codemirror_mode": {
    "name": "ipython",
    "version": 3
   },
   "file_extension": ".py",
   "mimetype": "text/x-python",
   "name": "python",
   "nbconvert_exporter": "python",
   "pygments_lexer": "ipython3",
   "version": "3.10.6"
  }
 },
 "nbformat": 4,
 "nbformat_minor": 5
}
