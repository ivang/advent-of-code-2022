{
 "cells": [
  {
   "cell_type": "code",
   "execution_count": 1,
   "id": "94b4f7cc",
   "metadata": {},
   "outputs": [],
   "source": [
    "with open(\"input\", \"r\") as f:\n",
    "    snafus = [line.strip() for line in f.readlines()]"
   ]
  },
  {
   "cell_type": "code",
   "execution_count": 2,
   "id": "14508866",
   "metadata": {},
   "outputs": [],
   "source": [
    "snafu_sum = 0\n",
    "\n",
    "for snafu in snafus:\n",
    "    length = len(snafu)\n",
    "    n = 0\n",
    "    for i in range(length - 1, -1, -1):\n",
    "        if snafu[i] == '-':\n",
    "            digit = -1 \n",
    "        elif snafu[i] == '=':\n",
    "            digit = -2\n",
    "        else:\n",
    "            digit = int(snafu[i])\n",
    "        n += digit * (5 ** (length - i - 1))\n",
    "    snafu_sum += n"
   ]
  },
  {
   "cell_type": "code",
   "execution_count": 3,
   "id": "317bca7f",
   "metadata": {},
   "outputs": [],
   "source": [
    "n = 0\n",
    "while 5**(n + 1) < snafu_sum:\n",
    "    n += 1"
   ]
  },
  {
   "cell_type": "code",
   "execution_count": 4,
   "id": "36e22e72",
   "metadata": {},
   "outputs": [],
   "source": [
    "digits = []\n",
    "tmp_num = snafu_sum\n",
    "for i in range(n, -1, -1):\n",
    "    digits.append(tmp_num // 5**i)\n",
    "    tmp_num %= 5**i"
   ]
  },
  {
   "cell_type": "code",
   "execution_count": 5,
   "id": "59913ac1",
   "metadata": {},
   "outputs": [
    {
     "data": {
      "text/plain": [
       "'122-12==0-01=00-0=02'"
      ]
     },
     "execution_count": 5,
     "metadata": {},
     "output_type": "execute_result"
    }
   ],
   "source": [
    "minuses = ('-', '=')\n",
    "str_digits = []\n",
    "for i in range(len(digits) - 1, -1, -1):\n",
    "    if digits[i] >= 5:\n",
    "        digits[i - 1] += digits[i] // 5\n",
    "        digits[i] %= 5\n",
    "    \n",
    "    if digits[i] <= 2:\n",
    "        str_digits.append(str(digits[i]))\n",
    "    else:\n",
    "        if i > 0:\n",
    "            digits[i - 1] += 1\n",
    "        else:\n",
    "            str_digits.append(\"1\")\n",
    "        str_digits.append(minuses[4 - digits[i]])\n",
    "\"\".join(str_digits[::-1])"
   ]
  }
 ],
 "metadata": {
  "kernelspec": {
   "display_name": "Python 3 (ipykernel)",
   "language": "python",
   "name": "python3"
  },
  "language_info": {
   "codemirror_mode": {
    "name": "ipython",
    "version": 3
   },
   "file_extension": ".py",
   "mimetype": "text/x-python",
   "name": "python",
   "nbconvert_exporter": "python",
   "pygments_lexer": "ipython3",
   "version": "3.10.6"
  }
 },
 "nbformat": 4,
 "nbformat_minor": 5
}
